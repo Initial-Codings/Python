{
 "cells": [
  {
   "cell_type": "markdown",
   "metadata": {},
   "source": [
    "# Generators"
   ]
  },
  {
   "cell_type": "markdown",
   "metadata": {},
   "source": [
    "There good for memory"
   ]
  },
  {
   "cell_type": "code",
   "execution_count": 1,
   "metadata": {},
   "outputs": [
    {
     "data": {
      "text/html": [
       "\n",
       "            <iframe\n",
       "                width=\"560\"\n",
       "                height=\"315\"\n",
       "                src=\"http://www.youtube.com/embed/bD05uGo_sVI?start=0\"\n",
       "                frameborder=\"0\"\n",
       "                allowfullscreen\n",
       "            ></iframe>\n",
       "        "
      ],
      "text/plain": [
       "<__main__.YouTubeVideo at 0x44b6b38>"
      ]
     },
     "execution_count": 1,
     "metadata": {},
     "output_type": "execute_result"
    }
   ],
   "source": [
    "from datetime import timedelta\n",
    "\n",
    "class YouTubeVideo(object):\n",
    "    def __init__(self, id, width=560, height=315, start=timedelta()):\n",
    "        self.id = id\n",
    "        self.width = width\n",
    "        self.height = height\n",
    "        self.start = start.total_seconds()\n",
    "\n",
    "    def _repr_html_(self):\n",
    "        return \"\"\"\n",
    "            <iframe\n",
    "                width=\"%i\"\n",
    "                height=\"%i\"\n",
    "                src=\"http://www.youtube.com/embed/%s?start=%i\"\n",
    "                frameborder=\"0\"\n",
    "                allowfullscreen\n",
    "            ></iframe>\n",
    "        \"\"\"%(self.width, self.height, self.id, self.start)\n",
    "\n",
    "# Insert Pull Request\t\t\n",
    "YouTubeVideo(\"bD05uGo_sVI\", start=timedelta(hours=0, minutes=0, seconds=0))\n",
    "\n"
   ]
  },
  {
   "cell_type": "markdown",
   "metadata": {},
   "source": [
    "# Git Hub"
   ]
  },
  {
   "cell_type": "markdown",
   "metadata": {},
   "source": [
    "square nums"
   ]
  },
  {
   "cell_type": "code",
   "execution_count": 4,
   "metadata": {},
   "outputs": [
    {
     "name": "stdout",
     "output_type": "stream",
     "text": [
      "[1, 4, 9, 16]\n"
     ]
    }
   ],
   "source": [
    "# First demo\n",
    "def square_numbers(nums):\n",
    "    result = []\n",
    "    for i in nums:\n",
    "        result.append(i**2)\n",
    "    return result\n",
    "\n",
    "my_nums = square_numbers([1, 2, 3, 4])\n",
    "print my_nums"
   ]
  },
  {
   "cell_type": "code",
   "execution_count": 8,
   "metadata": {},
   "outputs": [
    {
     "name": "stdout",
     "output_type": "stream",
     "text": [
      "<generator object square_numbers at 0x000000000597A630>\n",
      "1\n",
      "4\n",
      "9\n",
      "16\n",
      "25\n"
     ]
    },
    {
     "ename": "StopIteration",
     "evalue": "",
     "output_type": "error",
     "traceback": [
      "\u001b[1;31m---------------------------------------------------------------------------\u001b[0m",
      "\u001b[1;31mStopIteration\u001b[0m                             Traceback (most recent call last)",
      "\u001b[1;32m<ipython-input-8-25616f99ccce>\u001b[0m in \u001b[0;36m<module>\u001b[1;34m()\u001b[0m\n\u001b[0;32m     12\u001b[0m \u001b[1;32mprint\u001b[0m \u001b[0mnext\u001b[0m\u001b[1;33m(\u001b[0m\u001b[0mmy_nums\u001b[0m\u001b[1;33m)\u001b[0m\u001b[1;33m\u001b[0m\u001b[0m\n\u001b[0;32m     13\u001b[0m \u001b[1;32mprint\u001b[0m \u001b[0mnext\u001b[0m\u001b[1;33m(\u001b[0m\u001b[0mmy_nums\u001b[0m\u001b[1;33m)\u001b[0m\u001b[1;33m\u001b[0m\u001b[0m\n\u001b[1;32m---> 14\u001b[1;33m \u001b[1;32mprint\u001b[0m \u001b[0mnext\u001b[0m\u001b[1;33m(\u001b[0m\u001b[0mmy_nums\u001b[0m\u001b[1;33m)\u001b[0m\u001b[1;33m\u001b[0m\u001b[0m\n\u001b[0m\u001b[0;32m     15\u001b[0m \u001b[1;31m#my_nums = (x*x for x in [1,2,3,4,5])\u001b[0m\u001b[1;33m\u001b[0m\u001b[1;33m\u001b[0m\u001b[0m\n\u001b[0;32m     16\u001b[0m \u001b[1;33m\u001b[0m\u001b[0m\n",
      "\u001b[1;31mStopIteration\u001b[0m: "
     ]
    }
   ],
   "source": [
    "# Second demo\n",
    "def square_numbers(nums):\n",
    "    for i in nums:\n",
    "        yield (i*i)\n",
    "\n",
    "my_nums = square_numbers([1,2,3,4,5])\n",
    "# Waiting \n",
    "print my_nums\n",
    "# For the next and goes one by one\n",
    "print next(my_nums)\n",
    "print next(my_nums)\n",
    "print next(my_nums)\n",
    "print next(my_nums)\n",
    "print next(my_nums)\n",
    "# Error because run out of values exhausted all the\n",
    "# Values\n",
    "print next(my_nums)\n",
    "#my_nums = (x*x for x in [1,2,3,4,5])\n",
    "\n",
    "#print list(my_nums) # [1, 4, 9, 16, 25]\n",
    "\n",
    "# for num in my_nums:\n",
    "#     print num"
   ]
  },
  {
   "cell_type": "markdown",
   "metadata": {},
   "source": [
    "Third Demo"
   ]
  },
  {
   "cell_type": "code",
   "execution_count": 5,
   "metadata": {},
   "outputs": [
    {
     "name": "stdout",
     "output_type": "stream",
     "text": [
      "1\n",
      "4\n",
      "9\n",
      "16\n",
      "25\n",
      "\n",
      "[1, 4, 9, 16, 25]\n",
      "<generator object <genexpr> at 0x0000000004476D80>\n",
      "1\n",
      "4\n",
      "9\n",
      "16\n",
      "25\n"
     ]
    },
    {
     "data": {
      "text/plain": [
       "[1, 4, 9, 16, 25]"
      ]
     },
     "execution_count": 5,
     "metadata": {},
     "output_type": "execute_result"
    }
   ],
   "source": [
    "# Third demo\n",
    "def square_numbers(nums):\n",
    "    for i in nums:\n",
    "        yield (i*i)\n",
    "        \n",
    "result_nums = square_numbers([1,2,3,4,5])\n",
    "\n",
    "for num in result_nums:\n",
    "    print num\n",
    " \n",
    "print \n",
    "# list comprehension way\n",
    "print [x**2 for x in [1, 2, 3, 4, 5]]\n",
    "\n",
    "# Generator\n",
    "print (x**2 for x in [1, 2, 3, 4, 5])\n",
    "\n",
    "for i in (x**2 for x in [1, 2, 3, 4, 5]):\n",
    "    print i\n",
    "    \n",
    "list((x**2 for x in [1, 2, 3, 4, 5]))"
   ]
  },
  {
   "cell_type": "code",
   "execution_count": 10,
   "metadata": {},
   "outputs": [
    {
     "name": "stdout",
     "output_type": "stream",
     "text": [
      "1\n",
      "8\n",
      "27\n"
     ]
    }
   ],
   "source": [
    "# My Example\n",
    "def cube(nums):\n",
    "    for i in nums:\n",
    "        yield i**3\n",
    "        \n",
    "cube_results = cube([1, 2, 3])\n",
    "\n",
    "for i in cube_results:\n",
    "    print i"
   ]
  },
  {
   "cell_type": "markdown",
   "metadata": {},
   "source": [
    "people"
   ]
  },
  {
   "cell_type": "code",
   "execution_count": null,
   "metadata": {
    "collapsed": true
   },
   "outputs": [],
   "source": [
    "import mem_profile\n",
    "import random\n",
    "import time\n",
    "\n",
    "names = ['John', 'Corey', 'Adam', 'Steve', 'Rick', 'Thomas']\n",
    "majors = ['Math', 'Engineering', 'CompSci', 'Arts', 'Business']\n",
    "\n",
    "print 'Memory (Before): {}Mb'.format(mem_profile.memory_usage_psutil())\n",
    "\n",
    "def people_list(num_people):\n",
    "    result = []\n",
    "    for i in xrange(num_people):\n",
    "        person = {\n",
    "                    'id': i,\n",
    "                    'name': random.choice(names),\n",
    "                    'major': random.choice(majors)\n",
    "                }\n",
    "        result.append(person)\n",
    "    return result\n",
    "\n",
    "def people_generator(num_people):\n",
    "    for i in xrange(num_people):\n",
    "        person = {\n",
    "                    'id': i,\n",
    "                    'name': random.choice(names),\n",
    "                    'major': random.choice(majors)\n",
    "                }\n",
    "        yield person\n",
    "\n",
    "# t1 = time.clock()\n",
    "# people = people_list(1000000)\n",
    "# t2 = time.clock()\n",
    "\n",
    "t1 = time.clock()\n",
    "people = people_generator(1000000)\n",
    "t2 = time.clock()\n",
    "\n",
    "print 'Memory (After) : {}Mb'.format(mem_profile.memory_usage_psutil())\n",
    "print 'Took {} Seconds'.format(t2-t1)"
   ]
  },
  {
   "cell_type": "markdown",
   "metadata": {},
   "source": [
    "mem_profile"
   ]
  },
  {
   "cell_type": "code",
   "execution_count": null,
   "metadata": {
    "collapsed": true
   },
   "outputs": [],
   "source": [
    "from pympler import summary, muppy\n",
    "import psutil\n",
    "import resource\n",
    "import os\n",
    "import sys\n",
    "\n",
    "def memory_usage_psutil():\n",
    "    # return the memory usage in MB\n",
    "    process = psutil.Process(os.getpid())\n",
    "    mem = process.get_memory_info()[0] / float(2 ** 20)\n",
    "    return mem\n",
    "\n",
    "def memory_usage_resource():\n",
    "    rusage_denom = 1024.\n",
    "    if sys.platform == 'darwin':\n",
    "        # ... it seems that in OSX the output is different units ...\n",
    "        rusage_denom = rusage_denom * rusage_denom\n",
    "    mem = resource.getrusage(resource.RUSAGE_SELF).ru_maxrss / rusage_denom\n",
    "    return mem"
   ]
  }
 ],
 "metadata": {
  "kernelspec": {
   "display_name": "Python 2",
   "language": "python",
   "name": "python2"
  },
  "language_info": {
   "codemirror_mode": {
    "name": "ipython",
    "version": 2
   },
   "file_extension": ".py",
   "mimetype": "text/x-python",
   "name": "python",
   "nbconvert_exporter": "python",
   "pygments_lexer": "ipython2",
   "version": "2.7.13"
  }
 },
 "nbformat": 4,
 "nbformat_minor": 2
}
