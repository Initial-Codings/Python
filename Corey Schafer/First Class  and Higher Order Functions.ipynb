{
 "cells": [
  {
   "cell_type": "markdown",
   "metadata": {},
   "source": [
    "# First Class Functions and Higher Order Functions"
   ]
  },
  {
   "cell_type": "code",
   "execution_count": 5,
   "metadata": {},
   "outputs": [
    {
     "data": {
      "text/html": [
       "\n",
       "            <iframe\n",
       "                width=\"560\"\n",
       "                height=\"315\"\n",
       "                src=\"http://www.youtube.com/embed/kr0mpwqttM0?start=0\"\n",
       "                frameborder=\"0\"\n",
       "                allowfullscreen\n",
       "            ></iframe>\n",
       "        "
      ],
      "text/plain": [
       "<__main__.YouTubeVideo at 0x4488c18>"
      ]
     },
     "execution_count": 5,
     "metadata": {},
     "output_type": "execute_result"
    }
   ],
   "source": [
    "from datetime import timedelta\n",
    "\n",
    "class YouTubeVideo(object):\n",
    "    def __init__(self, id, width=560, height=315, start=timedelta()):\n",
    "        self.id = id\n",
    "        self.width = width\n",
    "        self.height = height\n",
    "        self.start = start.total_seconds()\n",
    "\n",
    "    def _repr_html_(self):\n",
    "        return \"\"\"\n",
    "            <iframe\n",
    "                width=\"%i\"\n",
    "                height=\"%i\"\n",
    "                src=\"http://www.youtube.com/embed/%s?start=%i\"\n",
    "                frameborder=\"0\"\n",
    "                allowfullscreen\n",
    "            ></iframe>\n",
    "        \"\"\"%(self.width, self.height, self.id, self.start)\n",
    "\n",
    "\t\t# Insert Pull Request\t\t\n",
    "YouTubeVideo(\"kr0mpwqttM0\", start=timedelta(hours=0, minutes=0, seconds=0))\n",
    "\n"
   ]
  },
  {
   "cell_type": "markdown",
   "metadata": {},
   "source": [
    "    They are used in logging\n",
    "    Similar to how decoreters are used in python"
   ]
  },
  {
   "cell_type": "code",
   "execution_count": 7,
   "metadata": {
    "collapsed": true
   },
   "outputs": [],
   "source": [
    "# This is the function \n",
    "# It can be supported by python as a first class function\n",
    "# Its an object\n",
    "# Everything in python is an object\n",
    "def square(x):\n",
    "    return x**2"
   ]
  },
  {
   "cell_type": "code",
   "execution_count": 8,
   "metadata": {},
   "outputs": [
    {
     "name": "stdout",
     "output_type": "stream",
     "text": [
      "<function square at 0x0000000004460908>\n",
      "<function square at 0x0000000004460908>\n",
      "25\n"
     ]
    }
   ],
   "source": [
    "###### This is just to illustrate that python supports first class functions ######\n",
    "# Python supports first class functions\n",
    "# meaninf it supports treating functions as objects\n",
    "# sq function assigned to variable first_class_func\n",
    "first_class_func = square\n",
    "f = first_class_func\n",
    "\n",
    "# function object saved in memory\n",
    "# It is an instance of the object class\n",
    "print f\n",
    "print square\n",
    "# Can pass in arguments to f\n",
    "print f(5)"
   ]
  },
  {
   "cell_type": "code",
   "execution_count": 11,
   "metadata": {},
   "outputs": [
    {
     "name": "stdout",
     "output_type": "stream",
     "text": [
      "[1, 4, 9, 16, 25]\n",
      "[1, 4, 9, 16, 25]\n",
      "\n",
      "[1, 8, 27, 64, 125]\n",
      "[1, 8, 27, 64, 125]\n"
     ]
    }
   ],
   "source": [
    "# Our own map function\n",
    "# Which is the emulation of the built it map()\n",
    "def my_map(func, arg_list):\n",
    "    \n",
    "    result = []\n",
    "    for i in arg_list:\n",
    "        result.append(func(i))\n",
    "    return list(result)\n",
    "\n",
    "squares = my_map(square, [1, 2, 3, 4, 5]) # square(object) passed as an argument\n",
    "\n",
    "def cube(x):\n",
    "    return x ** 3\n",
    "\n",
    "# map is a higher order function \n",
    "# it accepts function as an object\n",
    "print list(map(lambda x: x**2, [1, 2, 3, 4, 5]))\n",
    "print squares\n",
    "\n",
    "print \n",
    "\n",
    "# Another example\n",
    "cubes = my_map(cube, [1, 2, 3, 4, 5]) # cube(object) passed as an argument\n",
    "print list(map(lambda x: x**3, [1, 2, 3, 4, 5]))\n",
    "print cubes"
   ]
  },
  {
   "cell_type": "code",
   "execution_count": 41,
   "metadata": {},
   "outputs": [
    {
     "name": "stdout",
     "output_type": "stream",
     "text": [
      "Log: Hi\n",
      "\n",
      "<function wrap_text at 0x0000000005A54BA8>\n",
      "<h1>Test Headline!</h1>\n",
      "<h1>Another Headline!</h1>\n",
      "\n",
      "<function wrap_text at 0x0000000005AAB588>\n",
      "<p>Test Paragraph!</p>\n"
     ]
    }
   ],
   "source": [
    "def logger(msg):\n",
    "    \n",
    "    def log_message():\n",
    "        print 'Log:',msg # Just prints no arguments\n",
    "    \n",
    "    return log_message # Returning function log_message\n",
    "                       # Remember everything in python is an object even a function\n",
    "def html_tag(tag):\n",
    "\n",
    "    def wrap_text(msg):\n",
    "        print'<{0}>{1}</{0}>'.format(tag, msg)\n",
    "\n",
    "    return wrap_text\n",
    "\n",
    "# logger func assigned variable log_hi\n",
    "# This is a first class function with an argument\n",
    "#print logger('Hi') # This is a memory address \n",
    "\n",
    "# logger() func assigned to log_hi\n",
    "log_hi = logger('Hi')\n",
    "\n",
    "# this is now  log_message func\n",
    "# Because it is returned by logger\n",
    "log_hi()\n",
    "\n",
    "print\n",
    "\n",
    "# html_tag('h1') as object print_h1 \n",
    "print_h1 = html_tag('h1')\n",
    "print print_h1\n",
    "print_h1('Test Headline!')\n",
    "print_h1('Another Headline!')\n",
    "\n",
    "print\n",
    "\n",
    "print_p = html_tag('p')\n",
    "print print_p\n",
    "print_p('Test Paragraph!')"
   ]
  },
  {
   "cell_type": "code",
   "execution_count": null,
   "metadata": {
    "collapsed": true
   },
   "outputs": [],
   "source": []
  }
 ],
 "metadata": {
  "kernelspec": {
   "display_name": "Python 2",
   "language": "python",
   "name": "python2"
  },
  "language_info": {
   "codemirror_mode": {
    "name": "ipython",
    "version": 2
   },
   "file_extension": ".py",
   "mimetype": "text/x-python",
   "name": "python",
   "nbconvert_exporter": "python",
   "pygments_lexer": "ipython2",
   "version": "2.7.13"
  }
 },
 "nbformat": 4,
 "nbformat_minor": 2
}
