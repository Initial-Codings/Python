{
 "cells": [
  {
   "cell_type": "markdown",
   "metadata": {},
   "source": [
    "# Video 1 - Classes and Instances"
   ]
  },
  {
   "cell_type": "code",
   "execution_count": 1,
   "metadata": {},
   "outputs": [
    {
     "name": "stdout",
     "output_type": "stream",
     "text": [
      "Attributes\n",
      "Corey.Schafer@company.com\n",
      "Test.User@company.com\n",
      "\n",
      "Methods way 1\n",
      "Corey Schafer\n",
      "Test User\n",
      "\n",
      "Methods way 2\n",
      "Corey Schafer\n",
      "Test User\n"
     ]
    }
   ],
   "source": [
    "# OOP by Corey Schafer\n",
    "# May / 17 / 2017\n",
    "# company with employ for each different employee\n",
    "\n",
    "# ***Simon Allardice Class is a blueprint for an object\n",
    "# The atrributes(variables) are the data or characterists\n",
    "# The methods(functions) are the behaviours or actions \n",
    "\n",
    "class Employee:\n",
    "    '''Represent an Employee'''\n",
    "    # First use __init__ special Method\n",
    "    # Can be thought as initialize\n",
    "    # Or constructor\n",
    "    \n",
    "    # By convenction call the instance self \n",
    "    # Can be called what ever\n",
    "    # Initializing Attributes\n",
    "    def __init__(self, first, last, pay):\n",
    "        '''\n",
    "        Initialize Employee class object\n",
    "        INPUT: string(first and last) int(pay)  \n",
    "        '''        \n",
    "        self.first = first # self.first doesnt need to be the same as the arguments\n",
    "        self.last  = last    # he prefers to keep them same if possible\n",
    "        self.pay   = pay\n",
    "        self.email = first + '.' + last + '@company.com'\n",
    "        \n",
    "    # To display the name\n",
    "    # Method to do this\n",
    "    # Self needed as an instance argument \n",
    "    def fullname(self):\n",
    "        '''\n",
    "        Displays Employee's full name\n",
    "        INPUT: class instance\n",
    "        '''        \n",
    "        return '{} {}'.format(self.first, self.last)\n",
    "        \n",
    "# Now using the class above\n",
    "# Order matters for the passed variables\n",
    "emp1 = Employee('Corey', 'Schafer', 50000)\n",
    "emp2 = Employee('Test', 'User', 60000)\n",
    "\n",
    "# No parenthesis for attributes just variables\n",
    "print 'Attributes'\n",
    "print emp1.email\n",
    "print emp2.email + '\\n'\n",
    "\n",
    "# Now have code reuse power same code for both\n",
    "# Have to include parethesis for methods they are functions\n",
    "# Returns pointer for the method if () not inculed\n",
    "\n",
    "# The transformation of how class digests this shown below\n",
    "print 'Methods way 1'\n",
    "print emp1.fullname()\n",
    "print emp2.fullname() + '\\n'\n",
    "\n",
    "# This illustrates whats going on the background\n",
    "print 'Methods way 2'\n",
    "print Employee.fullname(emp1)\n",
    "print Employee.fullname(emp2)\n",
    "\n",
    "# This done when\n",
    "# class Employee:\n",
    "#   pass\n",
    "\n",
    "# Instance of the class\n",
    "#emp_1 = Employee()\n",
    "#emp_2 = Employee()\n",
    "\n",
    "# Setting Attributes Manually\n",
    "# This is cumbersome and prone to mistakes\n",
    "# To solve the issue buid the class\n",
    "\n",
    "# For Employee 1 InstanceL\n",
    "#emp_1.first = 'Corey'\n",
    "#emp_1.last  = 'Schafer'\n",
    "#emp_1.email = 'Corey.Schafer@company.com'\n",
    "#emp_1.pay   =  50000\n",
    "\n",
    "# For Employee 2 Instance\n",
    "#emp_2.first = 'Test'\n",
    "#emp_2.last  = 'User'\n",
    "#emp_2.email = 'Test.User@company.com'\n",
    "#emp_2.pay   =  60000\n",
    "\n"
   ]
  },
  {
   "cell_type": "code",
   "execution_count": null,
   "metadata": {
    "collapsed": true
   },
   "outputs": [],
   "source": []
  }
 ],
 "metadata": {
  "kernelspec": {
   "display_name": "Python 2",
   "language": "python",
   "name": "python2"
  },
  "language_info": {
   "codemirror_mode": {
    "name": "ipython",
    "version": 2
   },
   "file_extension": ".py",
   "mimetype": "text/x-python",
   "name": "python",
   "nbconvert_exporter": "python",
   "pygments_lexer": "ipython2",
   "version": "2.7.13"
  }
 },
 "nbformat": 4,
 "nbformat_minor": 2
}
