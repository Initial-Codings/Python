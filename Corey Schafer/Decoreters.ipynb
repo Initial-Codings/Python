{
 "cells": [
  {
   "cell_type": "markdown",
   "metadata": {},
   "source": [
    "# Decoretors\n",
    "_____"
   ]
  },
  {
   "cell_type": "code",
   "execution_count": 1,
   "metadata": {},
   "outputs": [
    {
     "data": {
      "text/html": [
       "\n",
       "            <iframe\n",
       "                width=\"560\"\n",
       "                height=\"315\"\n",
       "                src=\"http://www.youtube.com/embed/FsAPt_9Bf3U?start=0\"\n",
       "                frameborder=\"0\"\n",
       "                allowfullscreen\n",
       "            ></iframe>\n",
       "        "
      ],
      "text/plain": [
       "<__main__.YouTubeVideo at 0x4431b70>"
      ]
     },
     "execution_count": 1,
     "metadata": {},
     "output_type": "execute_result"
    }
   ],
   "source": [
    "from datetime import timedelta\n",
    "\n",
    "class YouTubeVideo(object):\n",
    "    def __init__(self, id, width=560, height=315, start=timedelta()):\n",
    "        self.id = id\n",
    "        self.width = width\n",
    "        self.height = height\n",
    "        self.start = start.total_seconds()\n",
    "\n",
    "    def _repr_html_(self):\n",
    "        return \"\"\"\n",
    "            <iframe\n",
    "                width=\"%i\"\n",
    "                height=\"%i\"\n",
    "                src=\"http://www.youtube.com/embed/%s?start=%i\"\n",
    "                frameborder=\"0\"\n",
    "                allowfullscreen\n",
    "            ></iframe>\n",
    "        \"\"\"%(self.width, self.height, self.id, self.start)\n",
    "\n",
    "# Insert Pull Request\t\t\n",
    "YouTubeVideo(\"FsAPt_9Bf3U\", start=timedelta(hours=0, minutes=0, seconds=0))\n",
    "\n"
   ]
  },
  {
   "cell_type": "markdown",
   "metadata": {},
   "source": [
    "# GitHub"
   ]
  },
  {
   "cell_type": "markdown",
   "metadata": {},
   "source": [
    "# Snippets\n",
    "class decorator_class(object):\n",
    "\n",
    "    def __init__(self, original_function):\n",
    "        self.original_function = original_function\n",
    "\n",
    "    def __call__(self, *args, **kwargs):\n",
    "        print('call method before {}'.format(self.original_function.__name__))\n",
    "        self.original_function(*args, **kwargs)\n",
    "\n",
    "\n",
    "# Practical Examples\n",
    "\n",
    "def my_logger(orig_func):\n",
    "    import logging\n",
    "    logging.basicConfig(filename='{}.log'.format(orig_func.__name__), level=logging.INFO)\n",
    "\n",
    "    def wrapper(*args, **kwargs):\n",
    "        logging.info(\n",
    "            'Ran with args: {}, and kwargs: {}'.format(args, kwargs))\n",
    "        return orig_func(*args, **kwargs)\n",
    "\n",
    "    return wrapper\n",
    "\n",
    "\n",
    "def my_timer(orig_func):\n",
    "    import time\n",
    "\n",
    "    def wrapper(*args, **kwargs):\n",
    "        t1 = time.time()\n",
    "        result = orig_func(*args, **kwargs)\n",
    "        t2 = time.time() - t1\n",
    "        print('{} ran in: {} sec'.format(orig_func.__name__, t2))\n",
    "        return result\n",
    "\n",
    "    return wrapper\n",
    "\n",
    "import time"
   ]
  },
  {
   "cell_type": "markdown",
   "metadata": {},
   "source": [
    "# Code\n",
    "from functools import wraps\n",
    "\n",
    "\n",
    "def my_logger(orig_func):\n",
    "    import logging\n",
    "    logging.basicConfig(filename='{}.log'.format(orig_func.__name__), level=logging.INFO)\n",
    "\n",
    "    @wraps(orig_func)\n",
    "    def wrapper(*args, **kwargs):\n",
    "        logging.info(\n",
    "            'Ran with args: {}, and kwargs: {}'.format(args, kwargs))\n",
    "        return orig_func(*args, **kwargs)\n",
    "\n",
    "    return wrapper\n",
    "\n",
    "\n",
    "def my_timer(orig_func):\n",
    "    import time\n",
    "\n",
    "    @wraps(orig_func)\n",
    "    def wrapper(*args, **kwargs):\n",
    "        t1 = time.time()\n",
    "        result = orig_func(*args, **kwargs)\n",
    "        t2 = time.time() - t1\n",
    "        print('{} ran in: {} sec'.format(orig_func.__name__, t2))\n",
    "        return result\n",
    "\n",
    "    return wrapper\n",
    "\n",
    "import time\n",
    "\n",
    "\n",
    "@my_logger\n",
    "@my_timer\n",
    "def display_info(name, age):\n",
    "    time.sleep(1)\n",
    "    print('display_info ran with arguments ({}, {})'.format(name, age))\n",
    "\n",
    "display_info('Tom', 22)"
   ]
  },
  {
   "cell_type": "code",
   "execution_count": 3,
   "metadata": {},
   "outputs": [
    {
     "name": "stdout",
     "output_type": "stream",
     "text": [
      "Hi\n"
     ]
    }
   ],
   "source": [
    "# First Demo illustrated first class function\n",
    "def outer_function():\n",
    "    message = 'Hi'\n",
    "    \n",
    "    def inner_function():\n",
    "        print message\n",
    "    return inner_function\n",
    "\n",
    "inner_func_object = outer_function()\n",
    "inner_func_object()"
   ]
  },
  {
   "cell_type": "code",
   "execution_count": 9,
   "metadata": {},
   "outputs": [
    {
     "name": "stdout",
     "output_type": "stream",
     "text": [
      "Hi\n",
      "Bye\n"
     ]
    }
   ],
   "source": [
    "# Second Demo illustrated first class function\n",
    "def outer_function(msg):\n",
    "    message = msg\n",
    "    \n",
    "    def inner_function():\n",
    "        print msg\n",
    "    return inner_function # return func object\n",
    "\n",
    "# Function objects\n",
    "hi_func = outer_function('Hi')\n",
    "bye_func = outer_function('Bye')\n",
    "\n",
    "# Can call inner_function \n",
    "hi_func()\n",
    "bye_func()"
   ]
  },
  {
   "cell_type": "code",
   "execution_count": 11,
   "metadata": {},
   "outputs": [
    {
     "name": "stdout",
     "output_type": "stream",
     "text": [
      "wrapper excecuted this before display\n",
      "dispaly function ran\n"
     ]
    }
   ],
   "source": [
    "# Decoretor a function that takes another function\n",
    "# As an argument adds some kind of functionality and then returns another \n",
    "# Function\n",
    "# All while not altering the source code of the original function that is passed in\n",
    "\n",
    "# Example 1 notice looks kinda similar to the examples above\n",
    "# Instead passing message modified to pass a function instead\n",
    "# accept a function as an argument\n",
    "# Simple decoreter\n",
    "def decoreter_function(original_function):\n",
    "    def wraper_function():\n",
    "        print 'wrapper excecuted this before {}'.format(original_function.__name__) ## added functionality\n",
    "        return original_function() # Return executable func\n",
    "    return wraper_function         # Return func object\n",
    "\n",
    "def display():\n",
    "    print 'dispaly function ran'\n",
    "    \n",
    "decorated_dispay = decoreter_function(display)\n",
    "decorated_dispay()\n",
    "# Why ? \n",
    "# Decoreters allows us to easily add functionality to our\n",
    "# exisiting functions by adding that functionality inside of our wraper"
   ]
  },
  {
   "cell_type": "code",
   "execution_count": 16,
   "metadata": {},
   "outputs": [
    {
     "name": "stdout",
     "output_type": "stream",
     "text": [
      "wrapper excecuted this before display\n",
      "dispaly function ran\n"
     ]
    }
   ],
   "source": [
    "# Example 1 modified \n",
    "def decoreter_function(original_function):\n",
    "    def wraper_function():\n",
    "        print 'wrapper excecuted this before {}'.format(original_function.__name__) ## added functionality\n",
    "        return original_function() # Return executable func\n",
    "    return wraper_function         # Return func object\n",
    "\n",
    "@decoreter_function # addes functionality this is the syntax for decoretors in python\n",
    "def display():      # This the same as dispay = decoreter_function(dispay)\n",
    "    print 'dispaly function ran'\n",
    "    \n",
    "display()\n",
    "\n",
    "# This wouldn't word if our original function took in arguments\n",
    "# Shown on the second cell below error"
   ]
  },
  {
   "cell_type": "code",
   "execution_count": 17,
   "metadata": {},
   "outputs": [
    {
     "name": "stdout",
     "output_type": "stream",
     "text": [
      "display_info ran with the arguments (John,25)\n"
     ]
    }
   ],
   "source": [
    "# Example 2\n",
    "def display_info(name, age):\n",
    "    print 'display_info ran with the arguments ({},{})'.format(name,age)\n",
    "    \n",
    "display_info('John', 25)"
   ]
  },
  {
   "cell_type": "code",
   "execution_count": 18,
   "metadata": {},
   "outputs": [
    {
     "ename": "TypeError",
     "evalue": "wraper_function() takes no arguments (2 given)",
     "output_type": "error",
     "traceback": [
      "\u001b[1;31m---------------------------------------------------------------------------\u001b[0m",
      "\u001b[1;31mTypeError\u001b[0m                                 Traceback (most recent call last)",
      "\u001b[1;32m<ipython-input-18-770e100c052c>\u001b[0m in \u001b[0;36m<module>\u001b[1;34m()\u001b[0m\n\u001b[0;32m      4\u001b[0m     \u001b[1;32mprint\u001b[0m \u001b[1;34m'display_info ran with the arguments ({},{})'\u001b[0m\u001b[1;33m.\u001b[0m\u001b[0mformat\u001b[0m\u001b[1;33m(\u001b[0m\u001b[0mname\u001b[0m\u001b[1;33m,\u001b[0m\u001b[0mage\u001b[0m\u001b[1;33m)\u001b[0m\u001b[1;33m\u001b[0m\u001b[0m\n\u001b[0;32m      5\u001b[0m \u001b[1;33m\u001b[0m\u001b[0m\n\u001b[1;32m----> 6\u001b[1;33m \u001b[0mdisplay_info\u001b[0m\u001b[1;33m(\u001b[0m\u001b[1;34m'John'\u001b[0m\u001b[1;33m,\u001b[0m \u001b[1;36m25\u001b[0m\u001b[1;33m)\u001b[0m\u001b[1;33m\u001b[0m\u001b[0m\n\u001b[0m",
      "\u001b[1;31mTypeError\u001b[0m: wraper_function() takes no arguments (2 given)"
     ]
    }
   ],
   "source": [
    "# wraper function takes no arguments\n",
    "@decoreter_function \n",
    "def display_info(name, age):\n",
    "    print 'display_info ran with the arguments ({},{})'.format(name,age)\n",
    "    \n",
    "display_info('John', 25)"
   ]
  },
  {
   "cell_type": "code",
   "execution_count": 25,
   "metadata": {},
   "outputs": [
    {
     "name": "stdout",
     "output_type": "stream",
     "text": [
      "wrapper excecuted this before display\n",
      "dispaly function ran\n",
      "\n",
      "wrapper excecuted this before display_info\n",
      "display_info ran with the arguments (John,25)\n"
     ]
    }
   ],
   "source": [
    "# Solution\n",
    "# What we need is being able to pass any number of\n",
    "# positional or keyword arguments and have it execute our original function\n",
    "# with those arguments\n",
    "# Done by *arg and **kwargs\n",
    "# Can actually call these anything you want\n",
    "# But by convetion stick to *arg and **kwargs\n",
    "\n",
    "def decoreter_function(original_function):\n",
    "    def wraper_function(*args, **kwargs):\n",
    "        print 'wrapper excecuted this before {}'.format(original_function.__name__) ## added functionality\n",
    "        return original_function(*args, **kwargs) # Return executable func\n",
    "    return wraper_function         # Return func object\n",
    "\n",
    "@decoreter_function # addes functionality this is the syntax for decoretors in python\n",
    "def display():      # This the same as dispay = decoreter_function(dispay)\n",
    "    print 'dispaly function ran'\n",
    "    \n",
    "@decoreter_function \n",
    "def display_info(name, age):\n",
    "    print 'display_info ran with the arguments ({},{})'.format(name,age)\n",
    "\n",
    "display() \n",
    "print\n",
    "display_info('John', 25) \n",
    "\n",
    "#*arg and **kwargs allows us accept any arbitary number of positional or keyword \n",
    "# arguments for our functions\n",
    "# now both ran"
   ]
  },
  {
   "cell_type": "code",
   "execution_count": 27,
   "metadata": {},
   "outputs": [
    {
     "name": "stdout",
     "output_type": "stream",
     "text": [
      "call method excecuted this before display\n",
      "dispaly function ran\n",
      "\n",
      "call method excecuted this before display_info\n",
      "display_info ran with the arguments (John,25)\n"
     ]
    }
   ],
   "source": [
    "# Classes as decoreters instead of functions\n",
    "class decoreter_class(object):\n",
    "    \n",
    "    def __init__(self,original_function): # function passed in as argument\n",
    "        self.original_function = original_function\n",
    "        \n",
    "                                                           \n",
    "    def __call__(self, *args, **kwargs): # mimics calling wrapper which adds the functionality\n",
    "        print 'call method excecuted this before {}'.format(self.original_function.__name__) # behaves just like wrapper function\n",
    "        return self.original_function(*args, **kwargs) \n",
    "        \n",
    "#This are now instances of the decoreter_class \n",
    "@decoreter_class # addes functionality this is the syntax for decoretors in python\n",
    "def display():      # This the same as dispay = decoreter_function(dispay)\n",
    "    print 'dispaly function ran'\n",
    "    \n",
    "@decoreter_class \n",
    "def display_info(name, age):\n",
    "    print 'display_info ran with the arguments ({},{})'.format(name,age)\n",
    "\n",
    "    \n",
    "display() \n",
    "print\n",
    "display_info('John', 25)  \n",
    "#Result is the same using the call method \n",
    "# Mostly commonly used is function as decoreters"
   ]
  },
  {
   "cell_type": "markdown",
   "metadata": {},
   "source": [
    "# Pratical examples for decoreters\n",
    "___"
   ]
  },
  {
   "cell_type": "markdown",
   "metadata": {},
   "source": [
    "    Most common use case is logging\n",
    "    used alot in the libraries\n",
    "    used in class properties\n",
    "    used in routing for web framworks"
   ]
  },
  {
   "cell_type": "code",
   "execution_count": 50,
   "metadata": {},
   "outputs": [
    {
     "name": "stdout",
     "output_type": "stream",
     "text": [
      "display_info ran with the arguments (John,25)\n",
      "display_info ran with the arguments (Hank,30)\n"
     ]
    },
    {
     "data": {
      "text/plain": [
       "'display_info'"
      ]
     },
     "execution_count": 50,
     "metadata": {},
     "output_type": "execute_result"
    }
   ],
   "source": [
    "# Want to keep track of how many times a specific \n",
    "# function is run and what arguments were passed\n",
    "# to that function\n",
    "from functools import wraps\n",
    "\n",
    "def my_logger(orig_func):\n",
    "    import logging\n",
    "    logging.basicConfig(filename='{}.log'.format(orig_func.__name__), level=logging.INFO)\n",
    "    \n",
    "    @wraps(orig_func) # preservation\n",
    "    def wrapper(*args, **kwargs):\n",
    "        logging.info(\n",
    "            'Ran with args: {}, and kwargs: {}'.format(args, kwargs))\n",
    "        return orig_func(*args, **kwargs)\n",
    "\n",
    "    return wrapper\n",
    "\n",
    "# timing how long functions run\n",
    "def my_timer(orig_func):\n",
    "    import time\n",
    "    \n",
    "    @wraps(orig_func) # preservation\n",
    "    def wrapper(*args, **kwargs):# Adds timing functionality to our\n",
    "        t1 = time.time()         # original function\n",
    "        result = orig_func(*args, **kwargs)\n",
    "        t2 = time.time() - t1\n",
    "        print('{} ran in: {} sec'.format(orig_func.__name__, t2))\n",
    "        return result\n",
    "\n",
    "    return wrapper # original replaced when we return the wrapper function\n",
    "\n",
    "import time\n",
    "\n",
    "\n",
    "@my_logger\n",
    "def display_info(name, age):\n",
    "    print 'display_info ran with the arguments ({},{})'.format(name,age)\n",
    "    \n",
    "display_info('John', 25)\n",
    "display_info('Hank', 30)\n",
    "display_info.__name__"
   ]
  },
  {
   "cell_type": "code",
   "execution_count": 31,
   "metadata": {},
   "outputs": [
    {
     "name": "stdout",
     "output_type": "stream",
     "text": [
      "display_info ran with the arguments (John,25)\n",
      "display_info ran in: 1.0 sec\n",
      "display_info ran with the arguments (Hank,30)\n",
      "display_info ran in: 1.00099992752 sec\n"
     ]
    }
   ],
   "source": [
    "import time\n",
    "@my_timer\n",
    "def display_info(name, age):\n",
    "    time.sleep(1) # added so that it takes 1 more second to run\n",
    "    print 'display_info ran with the arguments ({},{})'.format(name,age)\n",
    "    \n",
    "display_info('John', 25)\n",
    "display_info('Hank', 30)  "
   ]
  },
  {
   "cell_type": "code",
   "execution_count": 48,
   "metadata": {},
   "outputs": [
    {
     "name": "stdout",
     "output_type": "stream",
     "text": [
      "display_info ran with the arguments (John,25)\n",
      "display_info ran in: 1.00100016594 sec\n",
      "display_info ran with the arguments (Hank,30)\n",
      "display_info ran in: 1.00300002098 sec\n"
     ]
    },
    {
     "data": {
      "text/plain": [
       "'wrapper'"
      ]
     },
     "execution_count": 48,
     "metadata": {},
     "output_type": "execute_result"
    }
   ],
   "source": [
    "# what if wanted to apply both of the decoreters to one function\n",
    "# as easy as stacking the two together\n",
    "\n",
    "import time\n",
    "@my_logger\n",
    "@my_timer # order matter to get desired results\n",
    "def display_info(name, age):\n",
    "    time.sleep(1) # added so that it takes 1 more second to run\n",
    "    print 'display_info ran with the arguments ({},{})'.format(name,age)\n",
    "    \n",
    "display_info('John', 25)\n",
    "display_info('Hank', 30)\n",
    "display_info.__name__\n",
    "# @my_logger called 2nd\n",
    "# @my_timer called 1st\n",
    "# same as display_info = mylogger(my_timer(display_info)) # this equivalent to the wrapper\n",
    "\n",
    "# The wrapper of my_timer passed as org function argument to my_logger \n",
    "# To fix this to func tools wraps\n",
    "# This cell if run display_info.__name__ will be display_info"
   ]
  },
  {
   "cell_type": "code",
   "execution_count": 41,
   "metadata": {},
   "outputs": [
    {
     "name": "stdout",
     "output_type": "stream",
     "text": [
      "display_info\n"
     ]
    }
   ],
   "source": [
    "import time\n",
    "#@my_logger\n",
    "#@my_timer # order matter to get desired results\n",
    "def display_info(name, age):\n",
    "    time.sleep(1) # added so that it takes 1 more second to run\n",
    "    print 'display_info ran with the arguments ({},{})'.format(name,age)\n",
    "    \n",
    "display_info = my_timer(display_info)\n",
    "print display_info.__name__\n",
    "# display info because of wraps\n",
    "# without the wraps it would have been the wrapper \n",
    "# for the timer which is the the return function object"
   ]
  },
  {
   "cell_type": "code",
   "execution_count": 42,
   "metadata": {},
   "outputs": [
    {
     "name": "stdout",
     "output_type": "stream",
     "text": [
      "display_info ran with the arguments (Tom,25)\n",
      "display_info ran in: 1.00100016594 sec\n",
      "display_info ran with the arguments (Michael,30)\n",
      "display_info ran in: 1.00099992752 sec\n"
     ]
    }
   ],
   "source": [
    "# Funct tools \n",
    "# This to fix the issue of the sequence and preserve infromation\n",
    "# of our original function display()\n",
    "# whenever we use decoreters\n",
    "\n",
    "# decorate all of the wrappers with the wraps decoretor\n",
    "# decoretor inside a decoretor\n",
    "import time\n",
    "@my_logger\n",
    "@my_timer # order matter to get desired results\n",
    "def display_info(name, age):\n",
    "    time.sleep(1) # added so that it takes 1 more second to run\n",
    "    print 'display_info ran with the arguments ({},{})'.format(name,age)\n",
    "    \n",
    "display_info('Tom', 25)\n",
    "display_info('Michael', 30)\n"
   ]
  },
  {
   "cell_type": "code",
   "execution_count": null,
   "metadata": {
    "collapsed": true
   },
   "outputs": [],
   "source": []
  }
 ],
 "metadata": {
  "kernelspec": {
   "display_name": "Python 2",
   "language": "python",
   "name": "python2"
  },
  "language_info": {
   "codemirror_mode": {
    "name": "ipython",
    "version": 2
   },
   "file_extension": ".py",
   "mimetype": "text/x-python",
   "name": "python",
   "nbconvert_exporter": "python",
   "pygments_lexer": "ipython2",
   "version": "2.7.13"
  }
 },
 "nbformat": 4,
 "nbformat_minor": 2
}
