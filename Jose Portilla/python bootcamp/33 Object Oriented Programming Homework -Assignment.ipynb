{
 "cells": [
  {
   "cell_type": "markdown",
   "metadata": {},
   "source": [
    "# Object Oriented Programming\n",
    "## Homework Assignment\n",
    "\n",
    "####Problem 1\n",
    "Fill in the Line class methods to accept coordinate as a pair of tuples and return the slope and distance of the line."
   ]
  },
  {
   "cell_type": "code",
   "execution_count": 29,
   "metadata": {},
   "outputs": [
    {
     "data": {
      "text/html": [
       "\n",
       "            <iframe\n",
       "                width=\"560\"\n",
       "                height=\"315\"\n",
       "                src=\"http://www.youtube.com/embed/3ohzBxoFHAY?start=0\"\n",
       "                frameborder=\"0\"\n",
       "                allowfullscreen\n",
       "            ></iframe>\n",
       "        "
      ],
      "text/plain": [
       "<__main__.YouTubeVideo at 0x5a53320>"
      ]
     },
     "execution_count": 29,
     "metadata": {},
     "output_type": "execute_result"
    }
   ],
   "source": [
    "from datetime import timedelta\n",
    "\n",
    "class YouTubeVideo(object):\n",
    "    def __init__(self, id, width=560, height=315, start=timedelta()):\n",
    "        self.id = id\n",
    "        self.width = width\n",
    "        self.height = height\n",
    "        self.start = start.total_seconds()\n",
    "\n",
    "    def _repr_html_(self):\n",
    "        return \"\"\"\n",
    "            <iframe\n",
    "                width=\"%i\"\n",
    "                height=\"%i\"\n",
    "                src=\"http://www.youtube.com/embed/%s?start=%i\"\n",
    "                frameborder=\"0\"\n",
    "                allowfullscreen\n",
    "            ></iframe>\n",
    "        \"\"\"%(self.width, self.height, self.id, self.start)\n",
    "    \n",
    "YouTubeVideo(\"3ohzBxoFHAY\", start=timedelta(hours=0, minutes=0, seconds=0))"
   ]
  },
  {
   "cell_type": "code",
   "execution_count": 7,
   "metadata": {},
   "outputs": [
    {
     "name": "stdout",
     "output_type": "stream",
     "text": [
      "6\n",
      "abcd\n",
      "4\n"
     ]
    }
   ],
   "source": [
    "# Special Methods\n",
    "# The can be implemented on our class\n",
    "# Always use these three __init__, __str__, __repr__\n",
    "# From Corey Schafer the video above\n",
    "print int.__add__(1,2) + int.__add__(1,2)\n",
    "print str.__add__('a','b') +  str.__add__('c','d')\n",
    "print 'test'.__len__()"
   ]
  },
  {
   "cell_type": "code",
   "execution_count": 81,
   "metadata": {},
   "outputs": [
    {
     "name": "stdout",
     "output_type": "stream",
     "text": [
      "Class name space:\n",
      "{'slope': <function slope at 0x0000000005AF5F98>, 'distance': <function distance at 0x0000000005AF5DD8>, '__module__': '__main__', '__repr__': <function __repr__ at 0x0000000005AC6EB8>, '__dict__': <attribute '__dict__' of 'Line' objects>, '__str__': <function __str__ at 0x0000000005B70C18>, '__weakref__': <attribute '__weakref__' of 'Line' objects>, '__doc__': None, '__init__': <function __init__ at 0x0000000005AF5358>}\n",
      "\n",
      "Instance: \n",
      "Line((3, 2), (8, 10))\n",
      "Instance name space: {'coord2': (8, 10), 'coord1': (3, 2)}\n",
      "\n",
      "\n",
      "Line with point(3, 2) and point(8, 10)\n",
      "Distance: 9.4\n",
      "Slope: 1.6\n"
     ]
    }
   ],
   "source": [
    "# Line class object\n",
    "class Line(object):\n",
    "    \n",
    "    # Initialisation of the object \n",
    "    def __init__(self,coord1,coord2):\n",
    "        (x1, y1) = self.coord1 = coord1\n",
    "        (x2, y2) = self.coord2 = coord2\n",
    "    \n",
    "    \n",
    "    def distance(self):\n",
    "        (x1, y1) = self.coord1\n",
    "        (x2, y2) = self.coord2        \n",
    "        return ((x2 - x1)**2 + (y2 - y1)**2)**0.5\n",
    "    \n",
    "    \n",
    "    def slope(self):\n",
    "        (x1, y1) = self.coord1\n",
    "        (x2, y2) = self.coord2         \n",
    "        return float((y2 - y1)) / (x2 - x1)\n",
    "    \n",
    "    \n",
    "    def __repr__(self):\n",
    "        return 'Line({}, {})'.format(self.coord1, self.coord2)\n",
    "    \n",
    "    \n",
    "    def __str__(self):\n",
    "        return 'Line with point{} and point{}'.format(self.coord1, self.coord2)\n",
    "    \n",
    "# EXAMPLE OUTPUT\n",
    "\n",
    "coordinate1 = (3,2)\n",
    "coordinate2 = (8,10)\n",
    "\n",
    "li = Line(coordinate1, coordinate2)\n",
    "\n",
    "# Did this after veiwing Corey's video\n",
    "# For programmers\n",
    "print 'Class name space:\\n' + '{}'.format(Line.__dict__)\n",
    "print \n",
    "print 'Instance: \\n' + '{}'.format(li.__repr__())\n",
    "print 'Instance name space: {}'.format(li.__dict__)\n",
    "\n",
    "print\n",
    "print\n",
    "\n",
    "# For the user\n",
    "print li.__str__()\n",
    "print 'Distance: %.1f' %(li.distance())\n",
    "print 'Slope: ' + str(li.slope())"
   ]
  },
  {
   "cell_type": "markdown",
   "metadata": {},
   "source": [
    "________\n",
    "####Problem 2"
   ]
  },
  {
   "cell_type": "markdown",
   "metadata": {},
   "source": [
    "Fill in the class "
   ]
  },
  {
   "cell_type": "code",
   "execution_count": 6,
   "metadata": {},
   "outputs": [
    {
     "name": "stdout",
     "output_type": "stream",
     "text": [
      "56.52\n",
      "94.2\n"
     ]
    }
   ],
   "source": [
    "class Cylinder(object):\n",
    "    \n",
    "    # Class Attribute\n",
    "    pi = 3.14\n",
    "    \n",
    "    def __init__(self,height=1,radius=1):\n",
    "        self.height = height\n",
    "        self.radius = radius\n",
    "        \n",
    "    def volume(self):\n",
    "        return (Cylinder.pi) * ((self.radius)**2) * self.height \n",
    "    \n",
    "    def surface_area(self):\n",
    "        return (2 * Cylinder.pi * self.radius) * (self.height + self.radius)\n",
    "\n",
    "# EXAMPLE OUTPUT\n",
    "c = Cylinder(2,3)   \n",
    "print c.volume()\n",
    "print c.surface_area()"
   ]
  }
 ],
 "metadata": {
  "kernelspec": {
   "display_name": "Python 2",
   "language": "python",
   "name": "python2"
  },
  "language_info": {
   "codemirror_mode": {
    "name": "ipython",
    "version": 2
   },
   "file_extension": ".py",
   "mimetype": "text/x-python",
   "name": "python",
   "nbconvert_exporter": "python",
   "pygments_lexer": "ipython2",
   "version": "2.7.13"
  }
 },
 "nbformat": 4,
 "nbformat_minor": 1
}
