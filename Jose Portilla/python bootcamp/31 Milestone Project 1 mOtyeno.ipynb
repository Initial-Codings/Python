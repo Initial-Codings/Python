{
 "cells": [
  {
   "cell_type": "markdown",
   "metadata": {},
   "source": [
    "# Tic Tac Toe Project May / 16 / 2017 \n",
    "__________\n",
    "\n",
    "    Was Unsuccessfull however it was fun and great experience\n",
    "    So going to use the walkthough steps solutions"
   ]
  },
  {
   "cell_type": "markdown",
   "metadata": {},
   "source": [
    "***1 The Board***"
   ]
  },
  {
   "cell_type": "code",
   "execution_count": 74,
   "metadata": {},
   "outputs": [],
   "source": [
    "# Trial didnt translate as needed because string are immutable\n",
    "# Therefore started to explore to make the table using a list\n",
    "# Tokenizing the chars \n",
    "\n",
    "# This is the first Trial made the board sucessfully\n",
    "# However didn't display as required\n",
    "# First Made the Table Next Made it to a function\n",
    "def print_board():\n",
    "    # Grid Layers\n",
    "\n",
    "    # This times two prints the two layers of the table \n",
    "    layer1_2 = '     |     |     \\n' + \"_____|_____|_____\\n\" \n",
    "\n",
    "    # This times 2 prints the third layer\n",
    "    layer3 = ('     |     |     \\n')\n",
    "\n",
    "    # Display the 3 x 3 Grid\n",
    "    print (layer1_2 *2) + (layer3*2)\n",
    "    \n",
    "    return None\n",
    "\n"
   ]
  },
  {
   "cell_type": "code",
   "execution_count": 118,
   "metadata": {},
   "outputs": [
    {
     "name": "stdout",
     "output_type": "stream",
     "text": [
      "X     |     |     \n",
      "_____|_____|_____\n",
      "     |     |     \n",
      "_____|_____|_____\n",
      "     |     |     \n",
      "     |     |     \n",
      "\n"
     ]
    }
   ],
   "source": [
    "# This doesnt doesnt work either so make the layers independent of each other \n",
    "# Make the board as a list\n",
    "\n",
    "# Grid Layers (strings) as from the first attempt\n",
    "layer1_2 = '     |     |     \\n' + \"_____|_____|_____\\n\" \n",
    "layer3 = ('     |     |     \\n') \n",
    "board = (layer1_2 *2) + (layer3*2)\n",
    "\n",
    "# List of chars for the board\n",
    "# This easier to manipulate than the strings\n",
    "chars_on_board = [\"X\",] + [char for char in board]\n",
    "\n",
    "# Computation to generate board using the list\n",
    "list_board = ''\n",
    "for i in xrange(0,len(chars_on_board )):\n",
    "    list_board += chars_on_board[i]\n",
    "\n",
    "    \n",
    "# print list_board\n",
    "\n",
    "# want_board = chars_on_board[0] + chars_on_board[1] + chars_on_board[2] + chars_on_board[3] + chars_on_board[4] + chars_on_board[5]\n",
    "# print want_board\n",
    "\n",
    "print list_board\n",
    "\n",
    "per1 = \"Tom\"\n",
    "per2 = \"Tom\"+\"\\b\\bCAM\"\n",
    "\n"
   ]
  },
  {
   "cell_type": "code",
   "execution_count": 119,
   "metadata": {},
   "outputs": [
    {
     "name": "stdout",
     "output_type": "stream",
     "text": [
      "     |     |     \n",
      "_____|_____|_____\n",
      "     |     |     \n",
      "_____|_____|_____\n",
      "     |     |     \n",
      "     |     |     \n",
      "\n"
     ]
    }
   ],
   "source": [
    "print_board()"
   ]
  },
  {
   "cell_type": "code",
   "execution_count": 120,
   "metadata": {},
   "outputs": [
    {
     "name": "stdout",
     "output_type": "stream",
     "text": [
      "     |     |      \n",
      "  1  |  2  |  _  \n",
      "     |     |      \n",
      "  _  |  _  |  _  \n",
      "     |     |      \n",
      "  _  |  _  |  _  \n",
      "\n",
      "     |     |      \n",
      "  1  |  2  |  _  \n",
      "     |     |      \n",
      "  _  |  _  |  _  \n",
      "     |     |      \n",
      "  _  |  _  |  _  \n",
      "\n"
     ]
    }
   ],
   "source": [
    "# Tried on for demo\n",
    "def display_board(k,v):\n",
    "    '''\n",
    "    print instance of the game every time when called\n",
    "    INPUT:'X' or 'O'\n",
    "    OUTPUT: print instance of t\n",
    "    '''\n",
    "    \n",
    "    # Dictionary for calling spots on the board\n",
    "    d = {1:1, 2:2}\n",
    "        \n",
    "    # Grid Layers\n",
    "    # The board layout \n",
    "    layer_1 = '     {}     {}      \\n'.format('|','|')     \n",
    "    layer_2 = '  {}  |  {}  |  {}  \\n'.format(d[1], d[2],'_')\n",
    "    layer_3 = '     {}     {}      \\n'.format('|','|')  \n",
    "    layer_4 = '  {}  |  {}  |  {}  \\n'.format('_', '_', '_')\n",
    "    layer_5 = '     {}     {}      \\n'.format('|','|')  \n",
    "    layer_6 = '  {}  |  {}  |  {}  \\n'.format('_', '_', '_')\n",
    "\n",
    "    # Make layers to a list\n",
    "    layer_tup = (layer_1,layer_2,layer_3,layer_4,layer_5,layer_6)\n",
    "    \n",
    "    # Computation to print board\n",
    "    board = ''\n",
    "    for i in xrange(0,len(layer_tup)):\n",
    "        board += layer_tup[i]\n",
    "        \n",
    "    print board \n",
    "    return None\n",
    "\n",
    "display_board(1,'O')\n",
    "display_board(2,'O')"
   ]
  },
  {
   "cell_type": "code",
   "execution_count": null,
   "metadata": {
    "collapsed": true
   },
   "outputs": [],
   "source": [
    "# Got to know nice tricks\n",
    "l = ['A', 'B', 'C']\n",
    "d = {}\n",
    "print d\n",
    "d[0] = l[0]\n",
    "d[1] = l[1]\n",
    "d[2] = l[2]\n",
    "print d\n",
    "\n",
    "print '\\n'\n",
    "\n",
    "d1 = {}\n",
    "print d1\n",
    "for i in xrange(0,len(l)):\n",
    "    d1[i] = l[i]\n",
    "    \n",
    "print d1"
   ]
  }
 ],
 "metadata": {
  "kernelspec": {
   "display_name": "Python 2",
   "language": "python",
   "name": "python2"
  },
  "language_info": {
   "codemirror_mode": {
    "name": "ipython",
    "version": 2
   },
   "file_extension": ".py",
   "mimetype": "text/x-python",
   "name": "python",
   "nbconvert_exporter": "python",
   "pygments_lexer": "ipython2",
   "version": "2.7.13"
  }
 },
 "nbformat": 4,
 "nbformat_minor": 2
}
