{
 "cells": [
  {
   "cell_type": "markdown",
   "metadata": {},
   "source": [
    "# Functions and Methods Homework May / 15 / 2017\n",
    "___\n",
    "This was fun and learned alot ***pythontutor.com helped alot its awesome :) ^_^ ***\n",
    "\n",
    "Complete the following questions:\n",
    "\n",
    "**Write a function that computes the volume of a sphere given its radius.**"
   ]
  },
  {
   "cell_type": "code",
   "execution_count": 87,
   "metadata": {},
   "outputs": [
    {
     "name": "stdout",
     "output_type": "stream",
     "text": [
      "33.5\n"
     ]
    }
   ],
   "source": [
    "# solved by Michael Otyeno\n",
    "from math import pi as pi\n",
    "\n",
    "def vol(rad):\n",
    "    '''\n",
    "    Computes the volume of a sphere\n",
    "    INPUT: Radius of a sphere\n",
    "    OUTPUT: Volume of the sphere\n",
    "    '''\n",
    "    return (4.0 / 3.0) * pi * (rad**3)\n",
    "\n",
    "# Example sphere with r = 2\n",
    "vol_sphere = vol(2)\n",
    "print \"%.1f\" %(vol_sphere)"
   ]
  },
  {
   "cell_type": "markdown",
   "metadata": {},
   "source": [
    "___\n",
    "**Write a function that checks whether a number is in a given range (Inclusive of high and low)**"
   ]
  },
  {
   "cell_type": "code",
   "execution_count": 91,
   "metadata": {},
   "outputs": [
    {
     "name": "stdout",
     "output_type": "stream",
     "text": [
      "1 in range[-2,3]\n",
      "10 outside range[-2,3]\n"
     ]
    }
   ],
   "source": [
    "# Solved by Michael Otyeno\n",
    "def ran_check(num,low,high):\n",
    "    '''\n",
    "    Checks whether num is a given interval [low,high]\n",
    "    INPUT: num,low,high\n",
    "    OUTPUT: \"num in range[low,high]\"\n",
    "    OUTPUT: \"num outside range[low,high]\"\n",
    "    '''\n",
    "    \n",
    "    if num in xrange(low,high + 1):\n",
    "        print '{0} in range[{1},{2}]'.format(num, low, high)\n",
    "    else:\n",
    "        print '{0} outside range[{1},{2}]'.format(num, low, high)\n",
    "        \n",
    "    return None\n",
    "\n",
    "# Example check for 1 in [-2,3]\n",
    "ran_check(1,-2,3)\n",
    "\n",
    "# Example check for 10 in [-2,3]\n",
    "ran_check(10,-2,3)"
   ]
  },
  {
   "cell_type": "markdown",
   "metadata": {},
   "source": [
    "If you only wanted to return a boolean:"
   ]
  },
  {
   "cell_type": "code",
   "execution_count": 92,
   "metadata": {},
   "outputs": [
    {
     "data": {
      "text/plain": [
       "False"
      ]
     },
     "execution_count": 92,
     "metadata": {},
     "output_type": "execute_result"
    }
   ],
   "source": [
    "# Solved by Michael Otyeno\n",
    "def ran_bool(num,low,high):\n",
    "    '''\n",
    "    Checks whether number is a given interval [low,high]\n",
    "    INPUT: num,low,high\n",
    "    OUTPUT: True, if in range\n",
    "    OUTPUT: False,if not in range\n",
    "    '''\n",
    "    \n",
    "    if num in xrange(low,high + 1):\n",
    "        return True\n",
    "    else:\n",
    "        return False\n",
    "    \n",
    "# Example check for 1 in [-2,3]\n",
    "ran_bool(1,-2,3)\n",
    "\n",
    "# Example check for 10 in [-2,3]\n",
    "ran_bool(10,-2,3)"
   ]
  },
  {
   "cell_type": "markdown",
   "metadata": {},
   "source": [
    "____\n",
    "**Write a Python function that accepts a string and calculate the number of upper case letters and lower case letters.**\n",
    "\n",
    "    Sample String : 'Hello Mr. Rogers, how are you this fine Tuesday?'\n",
    "    Expected Output : \n",
    "    No. of Upper case characters : 4\n",
    "    No. of Lower case Characters : 33\n",
    "\n",
    "If you feel ambitious, explore the Collections module to solve this problem!"
   ]
  },
  {
   "cell_type": "code",
   "execution_count": 191,
   "metadata": {},
   "outputs": [
    {
     "name": "stdout",
     "output_type": "stream",
     "text": [
      "No. of Upper case characters 4\n",
      "No. of Lower case characters 33\n"
     ]
    }
   ],
   "source": [
    "# Solved by Michael Otyeno\n",
    "# Mehod 1 using for loop\n",
    "def up_low(s):\n",
    "    '''\n",
    "    Computes for the number of lower and upper letters in a string\n",
    "    INPUT: string\n",
    "    OUTPUT: (# of upper letters, # of lower letters)\n",
    "    '''\n",
    "    # Lists for containing string tokens which are: upper,lower and punctuation chars\n",
    "    up_chars = []\n",
    "    low_chars = []\n",
    "    punc_chars = []\n",
    "    \n",
    "    # Computation for tokenizing and concatenation of list\n",
    "    for char in s:\n",
    "        if char.upper() == char.lower():\n",
    "            punc_chars.append(char)           \n",
    "        elif char == char.upper():\n",
    "            up_chars.append(char)\n",
    "        elif char == char.lower():\n",
    "            low_chars.append(char)\n",
    "            \n",
    "    return (len(up_chars),len(low_chars))\n",
    "\n",
    "# Sample String : 'Hello Mr. Rogers, how are you this fine Tuesday?'\n",
    "up_low_chars = up_low('Hello Mr. Rogers, how are you this fine Tuesday?')\n",
    "print \"No. of Upper case characters {0}\".format(up_low_chars[0])\n",
    "print \"No. of Lower case characters {0}\".format(up_low_chars[1])"
   ]
  },
  {
   "cell_type": "code",
   "execution_count": 192,
   "metadata": {},
   "outputs": [
    {
     "name": "stdout",
     "output_type": "stream",
     "text": [
      "No. of Upper case characters 4\n",
      "No. of Lower case characters 33\n"
     ]
    }
   ],
   "source": [
    "# Solved by Michael Otyeno\n",
    "# Mehod 2 using list comprehensions\n",
    "def up_low(s):\n",
    "    '''\n",
    "    Computes for the number of lower and upper chars in a string\n",
    "    INPUT: string\n",
    "    OUTPUT: (# of upper chars, # of lower chars)    \n",
    "    '''\n",
    "    # Remove punctuation chars from string\n",
    "    s_filtered = [char for char in s if char.upper() != char.lower()]\n",
    "            \n",
    "    # Get the upper chars \n",
    "    up_chars = [char for char in s_filtered if char == char.upper()]\n",
    "    \n",
    "    # Get the lower chars    \n",
    "    low_chars = [char for char in s_filtered if char == char.lower()]\n",
    "    \n",
    "    return (len(up_chars),len(low_chars))\n",
    "\n",
    "up_low_chars = up_low('Hello Mr. Rogers, how are you this fine Tuesday?')\n",
    "print \"No. of Upper case characters {0}\".format(up_low_chars[0])\n",
    "print \"No. of Lower case characters {0}\".format(up_low_chars[1])"
   ]
  },
  {
   "cell_type": "markdown",
   "metadata": {},
   "source": [
    "______\n",
    "**Jose Portilla's Solution Using a Dictionary Data Type**"
   ]
  },
  {
   "cell_type": "markdown",
   "metadata": {},
   "source": [
    "**Write a Python function that accepts a string and calculate the number of upper case letters and lower case letters.**\n",
    "\n",
    "    Sample String : 'Hello Mr. Rogers, how are you this fine Tuesday?'\n",
    "    Expected Output : \n",
    "    No. of Upper case characters : 4\n",
    "    No. of Lower case Characters : 33\n",
    "\n",
    "If you feel ambitious, explore the Collections module to solve this problem!"
   ]
  },
  {
   "cell_type": "code",
   "execution_count": 265,
   "metadata": {
    "collapsed": true
   },
   "outputs": [],
   "source": [
    "def up_low(s):\n",
    "    d = {'upper': 0, 'lower':0}\n",
    "    for char in s:\n",
    "        if char.isupper():\n",
    "            d['upper'] += 1\n",
    "        elif char.islower():\n",
    "            d['lower'] += 1\n",
    "        else:\n",
    "            pass\n",
    "    print \"Original String : \", s\n",
    "    print \"No. of Upper case characters : \", d[\"upper\"]\n",
    "    print \"No. of Lower case Characters : \", d[\"lower\"]"
   ]
  },
  {
   "cell_type": "code",
   "execution_count": 266,
   "metadata": {},
   "outputs": [
    {
     "name": "stdout",
     "output_type": "stream",
     "text": [
      "Original String :  Hello Mr. Rogers, how are you this fine Tuesday?\n",
      "No. of Upper case characters :  4\n",
      "No. of Lower case Characters :  33\n"
     ]
    }
   ],
   "source": [
    "s = 'Hello Mr. Rogers, how are you this fine Tuesday?'\n",
    "up_low(s)"
   ]
  },
  {
   "cell_type": "markdown",
   "metadata": {},
   "source": [
    "______\n",
    "**Write a Python function that takes a list and returns a new list with unique elements of the first list.**\n",
    "\n",
    "    Sample List : [1,1,1,1,2,2,3,3,3,3,4,5]\n",
    "    Unique List : [1, 2, 3, 4, 5]"
   ]
  },
  {
   "cell_type": "code",
   "execution_count": 193,
   "metadata": {},
   "outputs": [],
   "source": [
    "# Solved by Michael Otyeno help from Jose Portilla\n",
    "# Looked at solutions for help did not know about if...not in.... \n",
    "def unique_list(l):\n",
    "    '''\n",
    "    Computes for unique numbers in the list\n",
    "    INPUT: list of real numbers \n",
    "    OUTPUT: list only with unique numbers\n",
    "            (there is no number that is repeated)\n",
    "    '''\n",
    "    # Unique string\n",
    "    l_unique = []\n",
    "    \n",
    "    # Computation for filling Unique string\n",
    "    for i in l:\n",
    "        if i not in l_unique:\n",
    "            l_unique.append(i)\n",
    "    return l_unique"
   ]
  },
  {
   "cell_type": "code",
   "execution_count": 194,
   "metadata": {},
   "outputs": [
    {
     "name": "stdout",
     "output_type": "stream",
     "text": [
      "[1, 2, 3, 4, 5]\n"
     ]
    }
   ],
   "source": [
    "l_unique = unique_list([1,1,1,1,2,2,3,3,3,3,4,5])\n",
    "print l_unique"
   ]
  },
  {
   "cell_type": "markdown",
   "metadata": {},
   "source": [
    "____\n",
    "**Write a Python function to multiply all the numbers in a list.**\n",
    "\n",
    "    Sample List : [1, 2, 3, -4]\n",
    "    Expected Output : -24"
   ]
  },
  {
   "cell_type": "code",
   "execution_count": 199,
   "metadata": {
    "collapsed": true
   },
   "outputs": [],
   "source": [
    "# Solved by Michael Otyeno help from Jose Portilla\n",
    "# Observed need to start with 1 to rebind the product in the case of multiplication\n",
    "def multiply(numbers):\n",
    "    '''\n",
    "    Gets the product of the list\n",
    "    INPUT: list of real numbers \n",
    "    OUTPUT: product integer   \n",
    "    '''\n",
    "    product = 1\n",
    "    for i in numbers:\n",
    "        product = product * i\n",
    "        \n",
    "    return product"
   ]
  },
  {
   "cell_type": "code",
   "execution_count": 200,
   "metadata": {},
   "outputs": [
    {
     "data": {
      "text/plain": [
       "-24"
      ]
     },
     "execution_count": 200,
     "metadata": {},
     "output_type": "execute_result"
    }
   ],
   "source": [
    "multiply([1,2,3,-4])"
   ]
  },
  {
   "cell_type": "markdown",
   "metadata": {},
   "source": [
    "____\n",
    "**Write a Python function that checks whether a passed string is palindrome or not.**\n",
    "\n",
    "Note: A palindrome is word, phrase, or sequence that reads the same backward as forward, e.g., madam or nurses run."
   ]
  },
  {
   "cell_type": "code",
   "execution_count": 226,
   "metadata": {
    "collapsed": true
   },
   "outputs": [],
   "source": [
    "# Solved by Michael Otyeno\n",
    "def palindrome(s):\n",
    "    '''\n",
    "    checks whether a passed string is palindrome or not\n",
    "    palindrome: Is a word or sequence that reads the same backward as forward\n",
    "    INPUT: list of real numbers \n",
    "    OUTPUT: product integer     \n",
    "    '''\n",
    "    # Remove punctuation chars\n",
    "    s = [char for char in s if char.upper() != char.lower()]\n",
    "    \n",
    "    # \n",
    "    if s == s[::-1]:\n",
    "        return True\n",
    "    else:\n",
    "        return False"
   ]
  },
  {
   "cell_type": "code",
   "execution_count": 227,
   "metadata": {},
   "outputs": [
    {
     "data": {
      "text/plain": [
       "True"
      ]
     },
     "execution_count": 227,
     "metadata": {},
     "output_type": "execute_result"
    }
   ],
   "source": [
    "palindrome('helleh')"
   ]
  },
  {
   "cell_type": "markdown",
   "metadata": {},
   "source": [
    "____\n",
    "**Hard**:\n",
    "\n",
    "Write a Python function to check whether a string is pangram or not.\n",
    "\n",
    "    Note : Pangrams are words or sentences containing every letter of the alphabet at least once.\n",
    "    For example : \"The quick brown fox jumps over the lazy dog\"\n",
    "\n",
    "Hint: Look at the string module"
   ]
  },
  {
   "cell_type": "code",
   "execution_count": 261,
   "metadata": {},
   "outputs": [],
   "source": [
    "# Solved by Michael Otyeno\n",
    "import string\n",
    "\n",
    "def ispangram(str1, alphabet=string.ascii_lowercase):\n",
    "    '''\n",
    "    Checks if a string is pangram,word or sentence containing \n",
    "    every letter of the alphabet at least once \n",
    "    INPUT: string\n",
    "    OUTPUT: Boolean\n",
    "    '''\n",
    "    # Converts all letters to lower case and removes spaces\n",
    "    str1_lower = str1.lower().replace(' ','')\n",
    "    \n",
    "    # Alphabet set and string set\n",
    "    alphabet_set = set(alphabet)\n",
    "    str1_set = set(str1_lower)\n",
    "    \n",
    "    # Return True bool if booth sets much \n",
    "    return str1_set  == alphabet_set"
   ]
  },
  {
   "cell_type": "code",
   "execution_count": 260,
   "metadata": {},
   "outputs": [
    {
     "data": {
      "text/plain": [
       "True"
      ]
     },
     "execution_count": 260,
     "metadata": {},
     "output_type": "execute_result"
    }
   ],
   "source": [
    "ispangram(\"The quick brown fox jumps over the lazy dog\")"
   ]
  },
  {
   "cell_type": "code",
   "execution_count": 259,
   "metadata": {},
   "outputs": [
    {
     "data": {
      "text/plain": [
       "'abcdefghijklmnopqrstuvwxyz'"
      ]
     },
     "execution_count": 259,
     "metadata": {},
     "output_type": "execute_result"
    }
   ],
   "source": [
    "string.ascii_lowercase"
   ]
  },
  {
   "cell_type": "markdown",
   "metadata": {
    "collapsed": true
   },
   "source": [
    "####**Great Job!**"
   ]
  }
 ],
 "metadata": {
  "kernelspec": {
   "display_name": "Python 2",
   "language": "python",
   "name": "python2"
  },
  "language_info": {
   "codemirror_mode": {
    "name": "ipython",
    "version": 2
   },
   "file_extension": ".py",
   "mimetype": "text/x-python",
   "name": "python",
   "nbconvert_exporter": "python",
   "pygments_lexer": "ipython2",
   "version": "2.7.13"
  }
 },
 "nbformat": 4,
 "nbformat_minor": 1
}
