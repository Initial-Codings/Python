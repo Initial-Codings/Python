{
 "cells": [
  {
   "cell_type": "markdown",
   "metadata": {},
   "source": [
    "# Polynomials\n",
    "___"
   ]
  },
  {
   "cell_type": "code",
   "execution_count": 18,
   "metadata": {
    "scrolled": true
   },
   "outputs": [
    {
     "name": "stdout",
     "output_type": "stream",
     "text": [
      "f(x) = 7x^4 + 9.3x^3 + 5x^2\n",
      "x = -13\n",
      "7.0(-13)^4 + 9.3(-13)^3 + 5.0(-13)^2 = 180339.9\n"
     ]
    }
   ],
   "source": [
    "########################\n",
    "# Problem Set 2(1)\n",
    "# Date: May/08/2017 - Continued on May/11/2017(solved it)\n",
    "# Name: Michael Otyeno\n",
    "# No error handling done can use a try block\n",
    "########################\n",
    "\n",
    "\n",
    "def evaluate_poly(poly, x):\n",
    "    \"\"\"\n",
    "    Computes the polynomial function for a given value x. Returns that value.\n",
    "\n",
    "    Example:\n",
    "    >>> poly = (0.0, 0.0, 5.0, 9.3, 7.0)    # f(x) = 7x^4 + 9.3x^3 + 5x^2\n",
    "    >>> x = -13\n",
    "    >>> print evaluate_poly(poly, x)  # f(-13) = 7(-13)^4 + 9.3(-13)^3 + 5(-13)^2\n",
    "    180339.9\n",
    "\n",
    "    poly: tuple of numbers, length > 0 (spec to use if did error handling)\n",
    "    x: number\n",
    "    returns: float\n",
    "    \"\"\"\n",
    "    # Variables\n",
    "    e = len(poly) - 1\n",
    "    rev_poly = poly[::-1]                   # Used this to reverse the coefficients \n",
    "    tup = ()                                # Fill with floats of poly tuple * (x**i)\n",
    "    tup_str = \"\"                            # Fill with floats of poly tuple reversed and display shown above on the example      \n",
    "    total = 0                               # Get the total of tup\n",
    "    \n",
    "    # Computatation to fill tup and tup_str \n",
    "    for i in range(0, len(poly)):\n",
    "\n",
    "        tup += (poly[i] * (x**i),)\n",
    "        total += tup[i]\n",
    "        \n",
    "        if rev_poly[i] != 0.0:              # Filter out the 0.0 coefficients \n",
    "            tup_str += \"{c}({value})^{powr} + \".format(c = rev_poly[i], value = x, powr = e)\n",
    "        else:\n",
    "            continue\n",
    "        e -= 1\n",
    "                                            # Tuple of strings to retrun for print to user\n",
    "                                            # This trick useful to return multiple variables\n",
    "    tup_print = (\"f(x) = 7x^4 + 9.3x^3 + 5x^2\\n\",\"x = -13\\n\",tup_str[:-2] + \"= {0}\".format(total))\n",
    "                                              \n",
    "    return tup_print[0] + tup_print[1] + tup_print[2]\n",
    "\n",
    "\n",
    "result = evaluate_poly((0.0, 0.0, 5.0, 9.3, 7.0), -13)\n",
    "print result"
   ]
  },
  {
   "cell_type": "markdown",
   "metadata": {},
   "source": [
    "Derivatives\n",
    "=====\n",
    "---"
   ]
  },
  {
   "cell_type": "code",
   "execution_count": 24,
   "metadata": {},
   "outputs": [
    {
     "name": "stdout",
     "output_type": "stream",
     "text": [
      "4.0x^3 + 9.0x^2 + 35.0x^1 + 0\n"
     ]
    }
   ],
   "source": [
    "########################\n",
    "# Problem Set 2(2)\n",
    "# Date: May/11/2017(solved)\n",
    "# Name: Michael Otyeno\n",
    "########################\n",
    "\n",
    "def compute_deriv(poly):\n",
    "    \"\"\"\n",
    "    Computes and returns the derivative of a polynomial function. If the\n",
    "    derivative is 0, returns (0.0,).\n",
    "\n",
    "    Example:\n",
    "    >>> poly = (-13.39, 0.0, 17.5, 3.0, 1.0)    # x^4 + 3x^3 + 17.5x^2 - 13.39\n",
    "    >>> print compute_deriv(poly)        # 4x^3 + 9x^2 + 35^x\n",
    "    (0.0, 35.0, 9.0, 4.0)\n",
    "\n",
    "    poly: tuple of numbers, length > 0\n",
    "    returns: tuple of numbers\n",
    "    \"\"\"\n",
    "    # Variables\n",
    "    tup_str = ()                     # string tuple fill with abx**b-1\n",
    "    \n",
    "    # Computation for the Derivative\n",
    "    for i in range(0, len(poly)):\n",
    "        \n",
    "        if (poly[i]*i) != 0.0:       # Coefficient(a) * index(b)\n",
    "                       \n",
    "            tup_str += (\"{a}{b}{c} + \".format(a = poly[i]*i,b = \"x^\",c = i-1),)\n",
    "        else:\n",
    "            continue                # Skip Coefficient(a) * index(b) = 0\n",
    "    \n",
    "    print_tup_str = \"\"              # Fill string with abx**b-1 with descending x**power (reorder the strings) \n",
    "    \n",
    "    # Reordering of the derivative string tuple\n",
    "    for i in range(len(tup_str)-1,-1,-1):\n",
    "        \n",
    "        print_tup_str += tup_str[i]   \n",
    "        \n",
    "    if (poly[i]*i) == 0.0 and i == 0:\n",
    "        return print_tup_str  + \"0\"\n",
    "    else:\n",
    "        return print_tup_str \n",
    "    \n",
    "result = compute_deriv((-13.39,0.0,17.5,3.0,1.0))\n",
    "print result\n"
   ]
  },
  {
   "cell_type": "markdown",
   "metadata": {},
   "source": [
    "Newtons Method\n",
    "=====\n",
    "---"
   ]
  },
  {
   "cell_type": "code",
   "execution_count": null,
   "metadata": {
    "collapsed": true
   },
   "outputs": [],
   "source": []
  },
  {
   "cell_type": "markdown",
   "metadata": {},
   "source": [
    "Wordgame Hangman\n",
    "=====\n",
    "---"
   ]
  },
  {
   "cell_type": "code",
   "execution_count": null,
   "metadata": {
    "collapsed": true
   },
   "outputs": [],
   "source": []
  }
 ],
 "metadata": {
  "kernelspec": {
   "display_name": "Python 2",
   "language": "python",
   "name": "python2"
  },
  "language_info": {
   "codemirror_mode": {
    "name": "ipython",
    "version": 2
   },
   "file_extension": ".py",
   "mimetype": "text/x-python",
   "name": "python",
   "nbconvert_exporter": "python",
   "pygments_lexer": "ipython2",
   "version": "2.7.13"
  }
 },
 "nbformat": 4,
 "nbformat_minor": 2
}
