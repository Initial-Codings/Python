{
 "cells": [
  {
   "cell_type": "markdown",
   "metadata": {},
   "source": [
    "#  Spines and Horizontal lines\n",
    "____"
   ]
  },
  {
   "cell_type": "code",
   "execution_count": 16,
   "metadata": {
    "collapsed": true
   },
   "outputs": [],
   "source": [
    "import matplotlib.pyplot as plt\n",
    "import numpy as np\n",
    "import urllib\n",
    "import matplotlib.dates as mdates\n",
    "import datetime as dt"
   ]
  },
  {
   "cell_type": "code",
   "execution_count": 17,
   "metadata": {
    "collapsed": true
   },
   "outputs": [],
   "source": [
    "def bytespdate2num(fmt, encoding ='utf-8'):\n",
    "    strconverter = mdates.strpdate2num(fmt)\n",
    "    def bytesconverter(b):\n",
    "        s = b.decode(encoding)\n",
    "        return strconverter(s)\n",
    "    return bytesconverter"
   ]
  },
  {
   "cell_type": "code",
   "execution_count": 18,
   "metadata": {
    "collapsed": true
   },
   "outputs": [],
   "source": [
    "def graph_data(stock):\n",
    "    '''\n",
    "    Graph Stock prices using Yahoo API\n",
    "    INPUT:  Stock Trader\n",
    "    OUTPUT: Price vs Year Graph \n",
    "    '''\n",
    "    stock_price_url = 'http://chartapi.finance.yahoo.com/instrument/1.0/'+ stock +'/chartdata;type=quote;range=10y/csv'\n",
    "    source_code = urllib.request.urlopen(stock_price_url).read().decode()\n",
    "    stock_data = []\n",
    "    split_source = source_code.split('\\n')\n",
    "    \n",
    "    for line in split_source:\n",
    "        split_line = line.split(',')\n",
    "        if len(split_line) == 6:\n",
    "            if 'values' not in line and 'labels' not in line:\n",
    "                stock_data.append(line)\n",
    "              \n",
    "    date, closep, highp, lowp, openp, volume = np.loadtxt(stock_data,\n",
    "                                                          delimiter=',',\n",
    "                                                          unpack=True,\n",
    "                                                          converters={0: bytespdate2num('%Y%m%d')})\n",
    "    # plot group\n",
    "    fig = plt.figure()\n",
    "    ax1 = plt.subplot2grid((1,1), (0,0))    \n",
    "    ax1.plt.plot_date(date, closep,'-', label = 'Price')     \n",
    "    ax1.plot([], [], linewidth = 5, label = 'loss', color = 'r', alpha = 0.5)\n",
    "    ax1.plot([], [], linewidth = 5, label = 'gain', color = 'g', alpha = 0.5)    \n",
    "    ax1.fill_between(date, closep, closep[0], where = (closep > closep[0]), facecolor = 'g', alpha = 0.3)\n",
    "    ax1.fill_between(date, closep, closep[0], where = (closep < closep[0]), facecolor = 'r', alpha = 0.3)\n",
    "    ax1.axhline(closep[0], color = 'k', linewidth = 5)\n",
    "    ax1.grid(True)\n",
    "    ax1.xaxis.set_color('c')\n",
    "    ax1.yaxis.set_color('r')\n",
    "    ax1.yaxis.set_yticks([i for i in xrange(0, 100, 25)])\n",
    "    # Spines change\n",
    "    ax1.spines['left'].set_color('c')\n",
    "    ax1.spines['right'].set_visible(False)\n",
    "    ax1.spines['top'].set_visible(False)\n",
    "    ax1.spines['left'].set_linewidth(5)\n",
    "    ax1.tick_params(axis = 'x', colors = '#f06215')\n",
    "    \n",
    "    # modifications group\n",
    "    for label in ax1.xaxis.get_ticklabels():\n",
    "        label.set_rotation(45)\n",
    "        \n",
    "    plt.xlabel('Date')\n",
    "    plt.ylabel('Price')\n",
    "    plt.title(stock)                                                 \n",
    "    plt.legend()\n",
    "    \n",
    "    plt.subplots_adjust(left = 0.09, bottom = 0.20, right = 0.94, top = 0.90, wspace = 0.2, hspace = 0)\n",
    "    plt.show()"
   ]
  },
  {
   "cell_type": "markdown",
   "metadata": {},
   "source": [
    "[On his website](https://pythonprogramming.net/colors-fills-matplotlib-tutorial/)"
   ]
  },
  {
   "cell_type": "markdown",
   "metadata": {},
   "source": [
    "points I wrote after reading the notes on the website\n",
    "1. spines are edges of the graph  space, where the ticks are located\n",
    "2. changed the color of the left spine to cyan and lineweight to 5\n",
    "3. can hide the spine by ax1.spines['right', top] give this try he did them line by line\n",
    "4. Changed the color of the the ticks the ax1.tick_params(axis = 'x', colors = '#f06215') used color-hex website to get the      #f06215 color\n",
    "5. how to draw a horizontal line on the graph\n",
    "6. closep[0] is the IPO price first number line [[],....] <---- this one index list\n",
    "\n",
    "summary from the vid\n",
    "1. spline is also like removing an axis\n",
    "2. he does plots on one group then modification after in another group\n",
    "3. noticed that the order should be get data then graph(i noticed this)\n",
    "4. reference the figure (graph object)\n",
    "5. then perform all the methods required for the graph\n",
    "6. just as a reminder the 'label =' is a keyword argument\n"
   ]
  },
  {
   "cell_type": "code",
   "execution_count": 15,
   "metadata": {},
   "outputs": [
    {
     "data": {
      "text/html": [
       "<\n",
       "How did i do this well \n",
       "Right click on webpage and copy embed code></p>\n",
       "<iframe width=\"622\" height=\"350\" src=\"https://www.youtube.com/embed/Blw7OF_-hXk\" frameborder=\"0\" allowfullscreen></iframe>"
      ],
      "text/plain": [
       "<IPython.core.display.HTML object>"
      ]
     },
     "metadata": {},
     "output_type": "display_data"
    }
   ],
   "source": [
    "%%HTML\n",
    "<\n",
    "How did i do this well \n",
    "Right click on webpage and copy embed code></p>\n",
    "<iframe width=\"622\" height=\"350\" src=\"https://www.youtube.com/embed/Blw7OF_-hXk\" frameborder=\"0\" allowfullscreen></iframe>"
   ]
  },
  {
   "cell_type": "code",
   "execution_count": null,
   "metadata": {
    "collapsed": true
   },
   "outputs": [],
   "source": [
    "graph_data('EBAY')"
   ]
  },
  {
   "cell_type": "code",
   "execution_count": null,
   "metadata": {
    "collapsed": true
   },
   "outputs": [],
   "source": []
  }
 ],
 "metadata": {
  "kernelspec": {
   "display_name": "Python 2",
   "language": "python",
   "name": "python2"
  },
  "language_info": {
   "codemirror_mode": {
    "name": "ipython",
    "version": 2
   },
   "file_extension": ".py",
   "mimetype": "text/x-python",
   "name": "python",
   "nbconvert_exporter": "python",
   "pygments_lexer": "ipython2",
   "version": "2.7.13"
  }
 },
 "nbformat": 4,
 "nbformat_minor": 2
}
