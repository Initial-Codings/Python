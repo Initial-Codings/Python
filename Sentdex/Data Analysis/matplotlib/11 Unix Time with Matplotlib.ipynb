{
 "cells": [
  {
   "cell_type": "markdown",
   "metadata": {},
   "source": [
    "# Unix Time to Datestamp\n",
    "____"
   ]
  },
  {
   "cell_type": "code",
   "execution_count": 18,
   "metadata": {
    "collapsed": true
   },
   "outputs": [],
   "source": [
    "import matplotlib.pyplot as plt\n",
    "import numpy as np\n",
    "import urllib\n",
    "import matplotlib.dates as mdates\n",
    "import embedvideo as ev\n",
    "import datetime as dt"
   ]
  },
  {
   "cell_type": "code",
   "execution_count": 2,
   "metadata": {
    "collapsed": true
   },
   "outputs": [],
   "source": [
    "# decode workd in python 2 \n",
    "# but not in python 3 doesnt work\n",
    "# Thats y need function to decode\n",
    "def bytespdate2num(fmt, encoding ='utf-8'):\n",
    "    strconverter = mdates.strpdate2num(fmt)\n",
    "    def bytesconverter(b):\n",
    "        s = b.decode(encoding)\n",
    "        return strconverter(s)\n",
    "    return bytesconverter"
   ]
  },
  {
   "cell_type": "code",
   "execution_count": 14,
   "metadata": {
    "collapsed": true
   },
   "outputs": [],
   "source": [
    "def graph_data(stock):\n",
    "    '''\n",
    "    Graph Stock prices using Yahoo API\n",
    "    INPUT:  Stock Trader\n",
    "    OUTPUT: Price vs Year Graph \n",
    "    '''\n",
    "    # For graph customization\n",
    "    # Every variable in terms of the x axis\n",
    "    fig = plt.figure() # in order to customize\n",
    "    ax1 = plt.subplot2grid((1,1), (0,0))# what to plot to\n",
    "    \n",
    "    # Yahoo API\n",
    "    stock_price_url = 'http://chartapi.finance.yahoo.com/instrument/1.0/'+ stock +'/chartdata;type=quote;range=10y/csv'\n",
    "    \n",
    "    # request, open, read and decode the API link\n",
    "    source_code = urllib.request.urlopen(stock_price_url).read().decode()\n",
    "    \n",
    "    # Computation to parse the data on the webpage\n",
    "    # List to hold required data\n",
    "    stock_data = []\n",
    "    \n",
    "    # List of all the lines on the webpage\n",
    "    split_source = source_code.split('\\n')\n",
    "    \n",
    "    # Only get the required data and ignore other contents\n",
    "    for line in split_source:\n",
    "        split_line = line.split(',')\n",
    "        if len(split_line) == 6:\n",
    "            if 'values' not in line and 'labels' not in line:\n",
    "                stock_data.append(line)\n",
    "    \n",
    "    # Unpack the data to this format using np.loadtxt            \n",
    "#    date, closep, highp, lowp, openp, volume = np.loadtxt(stock_data,\n",
    "#                                                          delimiter=',',\n",
    "#                                                          unpack=True,\n",
    "#                                                          converters={0: bytespdate2num('%Y%m%d')})\n",
    "    \n",
    "    date, closep, highp, lowp, openp, volume = np.loadtxt(stock_data,\n",
    "                                                          delimiter=',',\n",
    "                                                          unpack=True)\n",
    " \n",
    "    \n",
    "    # This after the minidemo\n",
    "    # This used for 10d because of unix time\n",
    "    dateconv = np.vectorize(dt.datetime.fromtimestamp)\n",
    "    # date passed to the function object\n",
    "    date = dateconv(date)\n",
    "    \n",
    "    # Graph\n",
    "    # Label, Title, Legend and Display\n",
    "    ax1.plt.plot_date(date, closep,'-', label = 'Price') #(x, y, marker)\n",
    "    ax1.grid(True) #,color = 'g', linewidth = 1)\n",
    "                   # generally is true good enough\n",
    "        \n",
    "    # To rotate the labels\n",
    "    for label in ax1.xaxis.get_ticklabels():\n",
    "        label.set_rotation(45)\n",
    "        \n",
    "    plt.xlabel('Date')\n",
    "    plt.ylabel('Price')\n",
    "    plt.title('Interesting Graph\\nCheck it out')                                                 \n",
    "    plt.legend()\n",
    "    \n",
    "    # Adjusted to fit on the window based on zoom actions \n",
    "    plt.subplots_adjust(left = 0.09, bottom = 0.20, right = 0.94, top = 0.90, wspace = 0.2, hspace = 0)\n",
    "    plt.show()"
   ]
  },
  {
   "cell_type": "markdown",
   "metadata": {},
   "source": [
    "[Data from the Internet](https://pythonprogramming.net/internet-data-matplotlib-tutorial/?completed=/loading-file-data-matplotlib-tutorial/)"
   ]
  },
  {
   "cell_type": "markdown",
   "metadata": {},
   "source": [
    "handling unix time (datestamp) (popular)\n",
    "for example when he changed to 10d (10 days)\n",
    "1. import datetime as dt\n",
    "2. he did a mini demo\n",
    "3. The code added to the graph_data function\n",
    "4. Removed converter"
   ]
  },
  {
   "cell_type": "code",
   "execution_count": 19,
   "metadata": {},
   "outputs": [
    {
     "data": {
      "text/html": [
       "\n",
       "            <iframe\n",
       "                width=\"560\"\n",
       "                height=\"315\"\n",
       "                src=\"http://www.youtube.com/embed/aRQxMYoCOuI?start=0\"\n",
       "                frameborder=\"0\"\n",
       "                allowfullscreen\n",
       "            ></iframe>\n",
       "        "
      ],
      "text/plain": [
       "<embedvideo.YouTubeVideo at 0x75b4a58>"
      ]
     },
     "execution_count": 19,
     "metadata": {},
     "output_type": "execute_result"
    }
   ],
   "source": [
    "ev.YouTubeVideo('aRQxMYoCOuI')"
   ]
  },
  {
   "cell_type": "markdown",
   "metadata": {
    "collapsed": true
   },
   "source": [
    "minidemo"
   ]
  },
  {
   "cell_type": "code",
   "execution_count": 15,
   "metadata": {},
   "outputs": [
    {
     "name": "stdout",
     "output_type": "stream",
     "text": [
      "1495677201.41\n",
      "2017-05-24 19:53:21.407000\n",
      "<numpy.lib.function_base.vectorize object at 0x00000000075B4EF0>\n",
      "2017-05-24 19:53:21.407000\n"
     ]
    }
   ],
   "source": [
    "import time\n",
    "print time.time() # this is unix time\n",
    "example_time = time.time()\n",
    "# military time\n",
    "print dt.datetime.fromtimestamp(example_time) # converts unix to date stamp\n",
    "# convert datestamp to unix\n",
    "# pass the function around for conversion if needed\n",
    "date_conv = np.vectorize(dt.datetime.fromtimestamp) # function object\n",
    "print date_conv\n",
    "print date_conv(example_time )"
   ]
  },
  {
   "cell_type": "code",
   "execution_count": null,
   "metadata": {
    "collapsed": true
   },
   "outputs": [],
   "source": []
  }
 ],
 "metadata": {
  "kernelspec": {
   "display_name": "Python 2",
   "language": "python",
   "name": "python2"
  },
  "language_info": {
   "codemirror_mode": {
    "name": "ipython",
    "version": 2
   },
   "file_extension": ".py",
   "mimetype": "text/x-python",
   "name": "python",
   "nbconvert_exporter": "python",
   "pygments_lexer": "ipython2",
   "version": "2.7.13"
  }
 },
 "nbformat": 4,
 "nbformat_minor": 2
}
