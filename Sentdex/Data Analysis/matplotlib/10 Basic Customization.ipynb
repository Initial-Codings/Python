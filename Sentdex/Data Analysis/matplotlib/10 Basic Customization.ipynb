{
 "cells": [
  {
   "cell_type": "markdown",
   "metadata": {},
   "source": [
    "# Basic Customization (Fig and ax)\n",
    "____"
   ]
  },
  {
   "cell_type": "code",
   "execution_count": 1,
   "metadata": {
    "collapsed": true
   },
   "outputs": [],
   "source": [
    "import matplotlib.pyplot as plt\n",
    "import numpy as np\n",
    "import urllib\n",
    "import matplotlib.dates as mdates\n",
    "import embedvideo as ev"
   ]
  },
  {
   "cell_type": "code",
   "execution_count": 2,
   "metadata": {
    "collapsed": true
   },
   "outputs": [],
   "source": [
    "# decode workd in python 2 \n",
    "# but not in python 3 doesnt work\n",
    "# Thats y need function to decode\n",
    "def bytespdate2num(fmt, encoding ='utf-8'):\n",
    "    strconverter = mdates.strpdate2num(fmt)\n",
    "    def bytesconverter(b):\n",
    "        s = b.decode(encoding)\n",
    "        return strconverter(s)\n",
    "    return bytesconverter"
   ]
  },
  {
   "cell_type": "code",
   "execution_count": 4,
   "metadata": {
    "collapsed": true
   },
   "outputs": [],
   "source": [
    "def graph_data(stock):\n",
    "    '''\n",
    "    Graph Stock prices using Yahoo API\n",
    "    INPUT:  Stock Trader\n",
    "    OUTPUT: Price vs Year Graph \n",
    "    '''\n",
    "    # For graph customization\n",
    "    # Every variable in terms of the x axis\n",
    "    fig = plt.figure() # in order to customize\n",
    "    ax1 = plt.subplot2grid((1,1), (0,0))# what to plot to\n",
    "    \n",
    "    # Yahoo API\n",
    "    stock_price_url = 'http://chartapi.finance.yahoo.com/instrument/1.0/'+ stock +'/chartdata;type=quote;range=10y/csv'\n",
    "    \n",
    "    # request, open, read and decode the API link\n",
    "    source_code = urllib.request.urlopen(stock_price_url).read().decode()\n",
    "    \n",
    "    # Computation to parse the data on the webpage\n",
    "    # List to hold required data\n",
    "    stock_data = []\n",
    "    \n",
    "    # List of all the lines on the webpage\n",
    "    split_source = source_code.split('\\n')\n",
    "    \n",
    "    # Only get the required data and ignore other contents\n",
    "    for line in split_source:\n",
    "        split_line = line.split(',')\n",
    "        if len(split_line) == 6:\n",
    "            if 'values' not in line and 'labels' not in line:\n",
    "                stock_data.append(line)\n",
    "    \n",
    "    # Unpack the data to this format using np.loadtxt            \n",
    "    date, closep, highp, lowp, openp, volume = np.loadtxt(stock_data,\n",
    "                                                          delimiter=',',\n",
    "                                                          unpack=True,\n",
    "                                                          converters={0: bytespdate2num('%Y%m%d')})\n",
    "    # Graph\n",
    "    # Label, Title, Legend and Display\n",
    "    ax1.plt.plot_date(date, closep,'-', label = 'Price') #(x, y, marker)\n",
    "    ax1.grid(True) #,color = 'g', linewidth = 1)\n",
    "                   # generally is true good enough\n",
    "        \n",
    "    # To rotate the labels\n",
    "    for label in ax1.xaxis.get_ticklabels():\n",
    "        label.set_rotation(45)\n",
    "        \n",
    "    plt.xlabel('Date')\n",
    "    plt.ylabel('Price')\n",
    "    plt.title('Interesting Graph\\nCheck it out')                                                 \n",
    "    plt.legend()\n",
    "    \n",
    "    # Adjusted to fit on the window based on zoom actions \n",
    "    plt.subplots_adjust(left = 0.09, bottom = 0.20, right = 0.94, top = 0.90, wspace = 0.2, hspace = 0)\n",
    "    plt.show()"
   ]
  },
  {
   "cell_type": "markdown",
   "metadata": {},
   "source": [
    "Componets added to graph_data(stock)\n",
    "1. fig \n",
    "2. ax1\n",
    "3. rotation\n",
    "4. plt.subplots_adjust\n",
    "5. Added a grid\n",
    "\n",
    "The way he constructs graphs\n",
    "1. define figure and all the axis\n",
    "2. define data\n",
    "3. define everything taht goes on each subplot which is your axis\n",
    "4. bottom plt stuff that will apply to the graph"
   ]
  },
  {
   "cell_type": "markdown",
   "metadata": {},
   "source": [
    "[Data from the Internet](https://pythonprogramming.net/internet-data-matplotlib-tutorial/?completed=/loading-file-data-matplotlib-tutorial/)"
   ]
  },
  {
   "cell_type": "code",
   "execution_count": 7,
   "metadata": {},
   "outputs": [
    {
     "data": {
      "text/html": [
       "\n",
       "            <iframe\n",
       "                width=\"560\"\n",
       "                height=\"315\"\n",
       "                src=\"http://www.youtube.com/embed/cLNOADl17b4?start=0\"\n",
       "                frameborder=\"0\"\n",
       "                allowfullscreen\n",
       "            ></iframe>\n",
       "        "
      ],
      "text/plain": [
       "<embedvideo.YouTubeVideo at 0x7589e10>"
      ]
     },
     "execution_count": 7,
     "metadata": {},
     "output_type": "execute_result"
    }
   ],
   "source": [
    "ev.YouTubeVideo('cLNOADl17b4')"
   ]
  },
  {
   "cell_type": "code",
   "execution_count": null,
   "metadata": {
    "collapsed": true
   },
   "outputs": [],
   "source": []
  }
 ],
 "metadata": {
  "kernelspec": {
   "display_name": "Python 2",
   "language": "python",
   "name": "python2"
  },
  "language_info": {
   "codemirror_mode": {
    "name": "ipython",
    "version": 2
   },
   "file_extension": ".py",
   "mimetype": "text/x-python",
   "name": "python",
   "nbconvert_exporter": "python",
   "pygments_lexer": "ipython2",
   "version": "2.7.13"
  }
 },
 "nbformat": 4,
 "nbformat_minor": 2
}
