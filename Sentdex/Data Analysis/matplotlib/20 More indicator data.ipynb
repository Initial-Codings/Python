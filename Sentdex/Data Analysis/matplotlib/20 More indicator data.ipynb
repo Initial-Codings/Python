{
 "cells": [
  {
   "cell_type": "markdown",
   "metadata": {},
   "source": [
    "# Indicator data with matplotlib\n",
    "____"
   ]
  },
  {
   "cell_type": "code",
   "execution_count": 2,
   "metadata": {},
   "outputs": [
    {
     "name": "stderr",
     "output_type": "stream",
     "text": [
      "C:\\Users\\PC\\Miniconda2\\lib\\site-packages\\matplotlib\\cbook.py:136: MatplotlibDeprecationWarning: The finance module has been deprecated in mpl 2.0 and will be removed in mpl 2.2. Please use the module mpl_finance instead.\n",
      "  warnings.warn(message, mplDeprecation, stacklevel=1)\n"
     ]
    },
    {
     "ename": "AttributeError",
     "evalue": "'module' object has no attribute 'request'",
     "output_type": "error",
     "traceback": [
      "\u001b[1;31m---------------------------------------------------------------------------\u001b[0m",
      "\u001b[1;31mAttributeError\u001b[0m                            Traceback (most recent call last)",
      "\u001b[1;32m<ipython-input-2-ab0abbcad5e3>\u001b[0m in \u001b[0;36m<module>\u001b[1;34m()\u001b[0m\n\u001b[0;32m     75\u001b[0m \u001b[1;33m\u001b[0m\u001b[0m\n\u001b[0;32m     76\u001b[0m \u001b[1;33m\u001b[0m\u001b[0m\n\u001b[1;32m---> 77\u001b[1;33m \u001b[0mgraph_data\u001b[0m\u001b[1;33m(\u001b[0m\u001b[1;34m'ebay'\u001b[0m\u001b[1;33m)\u001b[0m\u001b[1;33m\u001b[0m\u001b[0m\n\u001b[0m",
      "\u001b[1;32m<ipython-input-2-ab0abbcad5e3>\u001b[0m in \u001b[0;36mgraph_data\u001b[1;34m(stock)\u001b[0m\n\u001b[0;32m     28\u001b[0m \u001b[1;33m\u001b[0m\u001b[0m\n\u001b[0;32m     29\u001b[0m     \u001b[0mstock_price_url\u001b[0m \u001b[1;33m=\u001b[0m \u001b[1;34m'http://chartapi.finance.yahoo.com/instrument/1.0/'\u001b[0m\u001b[1;33m+\u001b[0m\u001b[0mstock\u001b[0m\u001b[1;33m+\u001b[0m\u001b[1;34m'/chartdata;type=quote;range=1m/csv'\u001b[0m\u001b[1;33m\u001b[0m\u001b[0m\n\u001b[1;32m---> 30\u001b[1;33m     \u001b[0msource_code\u001b[0m \u001b[1;33m=\u001b[0m \u001b[0murllib\u001b[0m\u001b[1;33m.\u001b[0m\u001b[0mrequest\u001b[0m\u001b[1;33m.\u001b[0m\u001b[0murlopen\u001b[0m\u001b[1;33m(\u001b[0m\u001b[0mstock_price_url\u001b[0m\u001b[1;33m)\u001b[0m\u001b[1;33m.\u001b[0m\u001b[0mread\u001b[0m\u001b[1;33m(\u001b[0m\u001b[1;33m)\u001b[0m\u001b[1;33m.\u001b[0m\u001b[0mdecode\u001b[0m\u001b[1;33m(\u001b[0m\u001b[1;33m)\u001b[0m\u001b[1;33m\u001b[0m\u001b[0m\n\u001b[0m\u001b[0;32m     31\u001b[0m     \u001b[0mstock_data\u001b[0m \u001b[1;33m=\u001b[0m \u001b[1;33m[\u001b[0m\u001b[1;33m]\u001b[0m\u001b[1;33m\u001b[0m\u001b[0m\n\u001b[0;32m     32\u001b[0m     \u001b[0msplit_source\u001b[0m \u001b[1;33m=\u001b[0m \u001b[0msource_code\u001b[0m\u001b[1;33m.\u001b[0m\u001b[0msplit\u001b[0m\u001b[1;33m(\u001b[0m\u001b[1;34m'\\n'\u001b[0m\u001b[1;33m)\u001b[0m\u001b[1;33m\u001b[0m\u001b[0m\n",
      "\u001b[1;31mAttributeError\u001b[0m: 'module' object has no attribute 'request'"
     ]
    }
   ],
   "source": [
    "import matplotlib.pyplot as plt\n",
    "import matplotlib.dates as mdates\n",
    "import matplotlib.ticker as mticker\n",
    "from matplotlib.finance import candlestick_ohlc\n",
    "from matplotlib import style\n",
    "\n",
    "import numpy as np\n",
    "import urllib\n",
    "import datetime as dt\n",
    "import webbrowser\n",
    "from IPython.display import YouTubeVideo\n",
    "\n",
    "style.use('fivethirtyeight')\n",
    "\n",
    "\n",
    "def bytespdate2num(fmt, encoding='utf-8'):\n",
    "    strconverter = mdates.strpdate2num(fmt)\n",
    "    def bytesconverter(b):\n",
    "        s = b.decode(encoding)\n",
    "        return strconverter(s)\n",
    "    return bytesconverter\n",
    "\n",
    "MA1 = 10\n",
    "MA2 = 30\n",
    "def moving_average(values, window):\n",
    "    weights = np.repeat(1.0, window) / window\n",
    "    smas    = np.convolve(values, weights, 'valid')\n",
    "    return smas\n",
    "\n",
    "\n",
    "    \n",
    "    \n",
    "\n",
    "def graph_data(stock):\n",
    "\n",
    "    fig = plt.figure()\n",
    "    ax1 = plt.subplot2grid((6,1), (0,0), rowspan = 1, colspan = 1)\n",
    "    plt.title(stock)\n",
    "    ax2 = plt.subplot2grid((6,1), (1,0), rowspan = 4, colspan = 1)\n",
    "    plt.xlabel('Date')\n",
    "    plt.ylabel('Price')\n",
    "    ax3 = plt.subplot2grid((6,1), (5,0), rowspan = 1, colspan = 1)\n",
    "    \n",
    "    stock_price_url = 'http://chartapi.finance.yahoo.com/instrument/1.0/'+stock+'/chartdata;type=quote;range=1m/csv'\n",
    "    source_code = urllib.request.urlopen(stock_price_url).read().decode()\n",
    "    stock_data = []\n",
    "    split_source = source_code.split('\\n')\n",
    "    for line in split_source:\n",
    "        split_line = line.split(',')\n",
    "        if len(split_line) == 6:\n",
    "            if 'values' not in line and 'labels' not in line:\n",
    "                stock_data.append(line)\n",
    "\n",
    "    \n",
    "    date, closep, highp, lowp, openp, volume = np.loadtxt(stock_data,\n",
    "                                                          delimiter=',',\n",
    "                                                          unpack=True,\n",
    "                                                          converters={0: bytespdate2num('%Y%m%d')})\n",
    "    # Area for data for ax2\n",
    "    x = 0\n",
    "    y = len(date)\n",
    "    ohlc = []\n",
    "\n",
    "    while x < y:\n",
    "        append_me = date[x], openp[x], highp[x], lowp[x], closep[x], volume[x]\n",
    "        ohlc.append(append_me)\n",
    "        x+=1\n",
    "    # added funcs here\n",
    "    ma1 = moving_average(closep, MA1)\n",
    "    ma2 = moving_average(closep, MA2)\n",
    "    start = len(date[MA2]-1:)\n",
    "    \n",
    "    h_1 = list(map(lambda x, y: x - y, highp, lowp))\n",
    "    ax1.plot_date(date, h_1,'-')\n",
    "\n",
    "    candlestick_ohlc(ax2, ohlc, width=0.4, colorup='#77d879', colordown='#db3f3f')\n",
    "\n",
    "    for label in ax2.xaxis.get_ticklabels():\n",
    "        label.set_rotation(45)\n",
    "\n",
    "    ax2.xaxis.set_major_formatter(mdates.DateFormatter('%Y-%m-%d'))\n",
    "    ax2.xaxis.set_major_locator(mticker.MaxNLocator(10))\n",
    "    ax2.grid(True)\n",
    "    bbox_props = dict(boxstyle = 'round', fc = 'w', ec = 'k', lw = 1)\n",
    "    ax2.annotate.(str(closep[-1], (date[-1], closep[-1]), \n",
    "                  xytext = (date[-1] + 4, closep[-1]), bbox = bbox_props)\n",
    "    #font_dict = {'family':'serif', 'color': 'dark red', 'size':15}\n",
    "    #ax2.text(date[10], closep[1],'Text Example', fontdict = font_dict)\n",
    "    #ax2.annotate('Big News', (date[11], highp[11]), xytext = (0.8, 0.9), textcoords = 'axes fraction',\n",
    "                arrowprops = dict(facecolor = 'grey', color = 'grey'))\n",
    "    \n",
    "    # for ax3\n",
    "    ax3.plot(date[-start:], ma1[-start:])\n",
    "    ax3.plot(date[-start:], ma3[-start:])\n",
    "    plt.subplots_adjust(left=0.09, bottom=0.20, right=0.94, top=0.90, wspace=0.2, hspace=0)\n",
    "    plt.show()\n",
    "\n",
    "\n",
    "graph_data('ebay')"
   ]
  },
  {
   "cell_type": "code",
   "execution_count": null,
   "metadata": {
    "collapsed": true
   },
   "outputs": [],
   "source": [
    "webbrowser.open('https://pythonprogramming.net/implementing-subplots-matplotlib-tutorial/')"
   ]
  },
  {
   "cell_type": "code",
   "execution_count": 3,
   "metadata": {},
   "outputs": [
    {
     "data": {
      "image/jpeg": "[encoded data removed]",
      "text/html": [
       "\n",
       "        <iframe\n",
       "            width=\"400\"\n",
       "            height=\"300\"\n",
       "            src=\"https://www.youtube.com/embed/T6y2LRcX9qM\"\n",
       "            frameborder=\"0\"\n",
       "            allowfullscreen\n",
       "        ></iframe>\n",
       "        "
      ],
      "text/plain": [
       "<IPython.lib.display.YouTubeVideo at 0x76561d0>"
      ]
     },
     "execution_count": 3,
     "metadata": {},
     "output_type": "execute_result"
    }
   ],
   "source": [
    "YouTubeVideo('T6y2LRcX9qM')"
   ]
  },
  {
   "cell_type": "markdown",
   "metadata": {},
   "source": [
    "points I wrote after reading the notes on the website\n",
    "1. adding data to the indictor graphs using simple functions\n",
    "2. the functions are moving_average and high_minus_low \n",
    "3. dont care about the details just the concept is of value here\n",
    "4. moving_average on ax3 and high_minus_low on ax1\n",
    "5. \n",
    "\n",
    "summary from the vid\n",
    "1. moving average used to calculate trends (he explains it well)\n",
    "2. move to area of data for the candlestick graph to use the moving_average\n",
    "3. purposely showed the an error if start not included\n",
    "4. he further enforced to not worry about the specifics of the functions.\n",
    "5. the error (ValueError) was x and y must have same first dimension the len() of x and y not the same one is shorter\n",
    "6. len(date) = 522 and len(ma1) equaled 513 this was causing the error\n",
    "7. to solve the issue ax3.plot(date, ma1)-----> ax3.plot(date[-start:], ma1[-start:])"
   ]
  }
 ],
 "metadata": {
  "kernelspec": {
   "display_name": "Python 2",
   "language": "python",
   "name": "python2"
  },
  "language_info": {
   "codemirror_mode": {
    "name": "ipython",
    "version": 2
   },
   "file_extension": ".py",
   "mimetype": "text/x-python",
   "name": "python",
   "nbconvert_exporter": "python",
   "pygments_lexer": "ipython2",
   "version": "2.7.13"
  }
 },
 "nbformat": 4,
 "nbformat_minor": 2
}
