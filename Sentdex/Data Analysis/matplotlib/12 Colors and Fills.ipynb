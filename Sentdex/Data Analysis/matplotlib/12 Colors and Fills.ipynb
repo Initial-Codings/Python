{
 "cells": [
  {
   "cell_type": "markdown",
   "metadata": {},
   "source": [
    "#  Colors and Fills with Matplotlib\n",
    "____"
   ]
  },
  {
   "cell_type": "code",
   "execution_count": 1,
   "metadata": {
    "collapsed": true
   },
   "outputs": [],
   "source": [
    "import matplotlib.pyplot as plt\n",
    "import numpy as np\n",
    "import urllib\n",
    "import matplotlib.dates as mdates\n",
    "import datetime as dt"
   ]
  },
  {
   "cell_type": "code",
   "execution_count": 2,
   "metadata": {
    "collapsed": true
   },
   "outputs": [],
   "source": [
    "def bytespdate2num(fmt, encoding ='utf-8'):\n",
    "    strconverter = mdates.strpdate2num(fmt)\n",
    "    def bytesconverter(b):\n",
    "        s = b.decode(encoding)\n",
    "        return strconverter(s)\n",
    "    return bytesconverter"
   ]
  },
  {
   "cell_type": "code",
   "execution_count": 8,
   "metadata": {},
   "outputs": [],
   "source": [
    "def graph_data(stock):\n",
    "    '''\n",
    "    Graph Stock prices using Yahoo API\n",
    "    INPUT:  Stock Trader\n",
    "    OUTPUT: Price vs Year Graph \n",
    "    '''\n",
    "    \n",
    "    fig = plt.figure() \n",
    "    ax1 = plt.subplot2grid((1,1), (0,0))\n",
    "    # To get a label for the fill\n",
    "    ax1.plot([], [], linewidth = 5, labe = 'loss', color = 'r', alpha = 0.5)\n",
    "    ax1.plot([], [], linewidth = 5, labe = 'gain', color = 'g', alpha = 0.5)\n",
    "    \n",
    "    stock_price_url = 'http://chartapi.finance.yahoo.com/instrument/1.0/'+ stock +'/chartdata;type=quote;range=10y/csv'\n",
    "    source_code = urllib.request.urlopen(stock_price_url).read().decode()\n",
    "    stock_data = []\n",
    "    split_source = source_code.split('\\n')\n",
    "    \n",
    "    for line in split_source:\n",
    "        split_line = line.split(',')\n",
    "        if len(split_line) == 6:\n",
    "            if 'values' not in line and 'labels' not in line:\n",
    "                stock_data.append(line)\n",
    "              \n",
    "    date, closep, highp, lowp, openp, volume = np.loadtxt(stock_data,\n",
    "                                                          delimiter=',',\n",
    "                                                          unpack=True,\n",
    "                                                          converters={0: bytespdate2num('%Y%m%d')})\n",
    "    \n",
    "    ax1.plt.plot_date(date, closep,'-', label = 'Price') \n",
    "    #Fill\n",
    "    # gain \n",
    "    ax1.fill_between(date, closep, closep[0], where = (closep > closep[0]), facecolor = 'g', alpha = 0.3)\n",
    "    # loss \n",
    "    ax1.fill_between(date, closep, closep[0], where = (closep < closep[0]), facecolor = 'r', alpha = 0.3)\n",
    "    ax1.grid(True)\n",
    "    # Changed the axis colors\n",
    "    ax1.xaxis.set_color('c')\n",
    "    ax1.yaxis.set_color('y')\n",
    "    # Changing y ticks for fun and giggles\n",
    "    # i did list comprehension 0 - 75\n",
    "    ax1.yaxis.set_yticks([i for i in xrange(0, 100, 25)])\n",
    "    \n",
    "    for label in ax1.xaxis.get_ticklabels():\n",
    "        label.set_rotation(45)\n",
    "        \n",
    "    plt.xlabel('Date')\n",
    "    plt.ylabel('Price')\n",
    "    # Title changed to stock\n",
    "    plt.title(stock)                                                 \n",
    "    plt.legend()\n",
    "    \n",
    "    plt.subplots_adjust(left = 0.09, bottom = 0.20, right = 0.94, top = 0.90, wspace = 0.2, hspace = 0)\n",
    "    plt.show()"
   ]
  },
  {
   "cell_type": "markdown",
   "metadata": {},
   "source": [
    "[On his website](https://pythonprogramming.net/colors-fills-matplotlib-tutorial/)"
   ]
  },
  {
   "cell_type": "markdown",
   "metadata": {},
   "source": [
    "The points highlighted on the vid\n",
    "1. Changed title to stock var\n",
    "2. changed the color of the axis labels\n",
    "3. changed the numbers for the y ticks\n",
    "4. fill between dates and prices\n",
    "5. altered the opacity of the fill\n",
    "6. also explained conditional fills\n",
    "7. facecolor for the polygon\n",
    "8. used the trick of empty list for labeling the fills\n",
    "9. ax1.fill_between(date, closep, 0, alpha = 0.3) fill based on the 0 changed that number to get the loss and gain of stock\n",
    "10. closep[0] IPO of the stock trader\n",
    "11. ax1.fill_between(date, closep, closep[0], alpha = 0.3) was like this then logic was added(where)\n",
    "12. polygons also have edge color by the way"
   ]
  },
  {
   "cell_type": "code",
   "execution_count": 4,
   "metadata": {},
   "outputs": [
    {
     "data": {
      "text/html": [
       "<iframe width=\"564\" height=\"317\" src=\"https://www.youtube.com/embed/7DK70jLZBzY\" frameborder=\"0\" allowfullscreen></iframe>"
      ],
      "text/plain": [
       "<IPython.core.display.HTML object>"
      ]
     },
     "metadata": {},
     "output_type": "display_data"
    }
   ],
   "source": [
    "%%HTML\n",
    "<iframe width=\"564\" height=\"317\" src=\"https://www.youtube.com/embed/7DK70jLZBzY\" frameborder=\"0\" allowfullscreen></iframe>"
   ]
  },
  {
   "cell_type": "code",
   "execution_count": null,
   "metadata": {
    "collapsed": true
   },
   "outputs": [],
   "source": [
    "graph_data('EBAY')"
   ]
  }
 ],
 "metadata": {
  "kernelspec": {
   "display_name": "Python 2",
   "language": "python",
   "name": "python2"
  },
  "language_info": {
   "codemirror_mode": {
    "name": "ipython",
    "version": 2
   },
   "file_extension": ".py",
   "mimetype": "text/x-python",
   "name": "python",
   "nbconvert_exporter": "python",
   "pygments_lexer": "ipython2",
   "version": "2.7.13"
  }
 },
 "nbformat": 4,
 "nbformat_minor": 2
}
