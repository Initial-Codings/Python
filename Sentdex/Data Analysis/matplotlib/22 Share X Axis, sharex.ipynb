{
 "cells": [
  {
   "cell_type": "markdown",
   "metadata": {},
   "source": [
    "# Multi Y Axis with twinx \n",
    "____"
   ]
  },
  {
   "cell_type": "code",
   "execution_count": 1,
   "metadata": {},
   "outputs": [
    {
     "name": "stderr",
     "output_type": "stream",
     "text": [
      "C:\\Users\\PC\\Miniconda2\\lib\\site-packages\\matplotlib\\cbook.py:136: MatplotlibDeprecationWarning: The finance module has been deprecated in mpl 2.0 and will be removed in mpl 2.2. Please use the module mpl_finance instead.\n",
      "  warnings.warn(message, mplDeprecation, stacklevel=1)\n"
     ]
    }
   ],
   "source": [
    "import matplotlib.pyplot as plt\n",
    "import matplotlib.dates as mdates\n",
    "import matplotlib.ticker as mticker\n",
    "from matplotlib.finance import candlestick_ohlc\n",
    "from matplotlib import style\n",
    "\n",
    "import numpy as np\n",
    "import urllib\n",
    "import datetime as dt\n",
    "import webbrowser\n",
    "from IPython.display import YouTubeVideo"
   ]
  },
  {
   "cell_type": "code",
   "execution_count": 13,
   "metadata": {},
   "outputs": [
    {
     "ename": "SyntaxError",
     "evalue": "invalid syntax (<ipython-input-13-5380bd5e7363>, line 91)",
     "output_type": "error",
     "traceback": [
      "\u001b[1;36m  File \u001b[1;32m\"<ipython-input-13-5380bd5e7363>\"\u001b[1;36m, line \u001b[1;32m91\u001b[0m\n\u001b[1;33m    ax3.plot(date[-start:], ma1[-start:])\u001b[0m\n\u001b[1;37m      ^\u001b[0m\n\u001b[1;31mSyntaxError\u001b[0m\u001b[1;31m:\u001b[0m invalid syntax\n"
     ]
    }
   ],
   "source": [
    "style.use('fivethirtyeight')\n",
    "\n",
    "def bytespdate2num(fmt, encoding='utf-8'):\n",
    "    strconverter = mdates.strpdate2num(fmt)\n",
    "    def bytesconverter(b):\n",
    "        s = b.decode(encoding)\n",
    "        return strconverter(s)\n",
    "    return bytesconverter\n",
    "\n",
    "MA1 = 10\n",
    "MA2 = 30\n",
    "def moving_average(values, window):\n",
    "    weights = np.repeat(1.0, window) / window\n",
    "    smas    = np.convolve(values, weights, 'valid')\n",
    "    return smas\n",
    "\n",
    "def graph_data(stock):\n",
    "\n",
    "    fig = plt.figure()\n",
    "    ax1 = plt.subplot2grid((6,1), (0,0), rowspan = 1, colspan = 1)\n",
    "    plt.title(stock)\n",
    "    plt.ylabel('H-L')\n",
    "    ax2 = plt.subplot2grid((6,1), (1,0), rowspan = 4, colspan = 1, sharex = ax1) # share xaxis with ax1  \n",
    "    plt.ylabel('Price')\n",
    "    # same x axis but different y axis\n",
    "    ax2v = twinx()\n",
    "    ax3 = plt.subplot2grid((6,1), (5,0), rowspan = 1, colspan = 1, sharex = ax1) # share xaxis with ax1\n",
    "    plt.ylabel('MAvgs')\n",
    "    \n",
    "    stock_price_url = 'http://chartapi.finance.yahoo.com/instrument/1.0/'+stock+'/chartdata;type=quote;range=1m/csv'\n",
    "    source_code = urllib.request.urlopen(stock_price_url).read().decode()\n",
    "    stock_data = []\n",
    "    split_source = source_code.split('\\n')\n",
    "    for line in split_source:\n",
    "        split_line = line.split(',')\n",
    "        if len(split_line) == 6:\n",
    "            if 'values' not in line and 'labels' not in line:\n",
    "                stock_data.append(line)\n",
    "\n",
    "    \n",
    "    date, closep, highp, lowp, openp, volume = np.loadtxt(stock_data,\n",
    "                                                          delimiter=',',\n",
    "                                                          unpack=True,\n",
    "                                                          converters={0: bytespdate2num('%Y%m%d')})\n",
    "    x = 0\n",
    "    y = len(date)\n",
    "    ohlc = []\n",
    "\n",
    "    while x < y:\n",
    "        append_me = date[x], openp[x], highp[x], lowp[x], closep[x], volume[x]\n",
    "        ohlc.append(append_me)\n",
    "        x+=1\n",
    "    ma1 = moving_average(closep, MA1)\n",
    "    ma2 = moving_average(closep, MA2)\n",
    "    start = len(date[MA2 - 1:])\n",
    "    \n",
    "    h_1 = list(map(lambda x, y: x - y, highp, lowp))\n",
    "    \n",
    "    ax1.plot_date(date[-start:], h_1[-start:],'-')\n",
    "    ax1.yaxis.set_major_locater(mticker.MaxNLocator(nbins = 4, prune = 'lower'))\n",
    "    \n",
    "    candlestick_ohlc(ax2, ohlc[-start:], width=0.4, colorup='#77d879', colordown='#db3f3f')\n",
    "\n",
    "    for label in ax2.xaxis.get_ticklabels():\n",
    "        label.set_rotation(45)\n",
    "\n",
    "   \n",
    "    ax2.yaxis.set_major_locater(mticker.MaxNLocator(nbins = 7, prune = 'upper'))\n",
    "    ax2.grid(True)\n",
    "    bbox_props = dict(boxstyle = 'round', fc = 'w', ec = 'k', lw = 1)\n",
    "    ax2.annotate(str(closep[-1], (date[-1], closep[-1]), \n",
    "                  xytext = (date[-1] + 4, closep[-1]), bbox = bbox_props)\n",
    "    font_dict = {'family':'serif', 'color': 'dark red', 'size':15}\n",
    "    ax2.text(date[10], closep[1],'Text Example', fontdict = font_dict)\n",
    "    ax2.annotate('Big News', (date[11], highp[11]), xytext = (0.8, 0.9), textcoords = 'axes fraction',\n",
    "                arrowprops = dict(facecolor = 'grey', color = 'grey'))\n",
    "    # have fill\n",
    "    ax2v.fill_between(date[-start:], 0, volume[-start:], facecolor = '#0079a3', alpha = 0.4)\n",
    "    ax2v.axes.yaxis.set_ticklabels([])#set to nothing\n",
    "    ax2v.grid(False)# remove grid\n",
    "    ax2v.set_ylim(0, 3*volum.max())# scaled\n",
    "    ax3.plot(date[-start:], ma1[-start:], linewidth = 1)\n",
    "    ax3.plot(date[-start:], ma2[-start:], linewidth = 1)          \n",
    "    ax3.fill_between(date[-start:], ma1[-start:], \n",
    "                     ma2[-start:], where = (ma1[-start:] < ma2[-start:]), \n",
    "                     facecolor = 'r', edgecolor = 'r', alpha = 0.5)  \n",
    "    ax3.fill_between(date[-start:], ma1[-start:], \n",
    "                     ma2[-start:], where = (ma1[-start:] > ma2[-start:]), \n",
    "                     facecolor = 'g', edgecolor = 'g', alpha = 0.5)\n",
    "    ax3.xaxis.set_major_formatter(mdates.DateFormatter('%Y-%m-%d'))\n",
    "    ax3.xaxis.set_major_locator(mticker.MaxNLocator(10))\n",
    "    ax3.yaxis.set_major_locater(mticker.MaxNLocator(nbins = 5, prune = 'lower'))\n",
    "    for label in ax3.xaxis.get_ticklabels():\n",
    "        label.set_rotation(45)                 \n",
    "                 \n",
    "    plt.setp(ax1.get_xticklabels(), visibile = False)\n",
    "    plt.setp(ax2.get_xticklabels(), visibile = False)  \n",
    "    plt.subplots_adjust(left=0.09, bottom=0.20, right=0.94, top=0.90, wspace=0.2, hspace=0)\n",
    "    plt.show()\n",
    "\n",
    "\n",
    "graph_data('ebay')"
   ]
  },
  {
   "cell_type": "code",
   "execution_count": 17,
   "metadata": {},
   "outputs": [
    {
     "data": {
      "text/plain": [
       "True"
      ]
     },
     "execution_count": 17,
     "metadata": {},
     "output_type": "execute_result"
    }
   ],
   "source": [
    "webbrowser.open('https://pythonprogramming.net/share-x-axis-sharex-matplotlib-tutorial/')"
   ]
  },
  {
   "cell_type": "code",
   "execution_count": 2,
   "metadata": {},
   "outputs": [
    {
     "data": {
      "image/jpeg": "[encoded data removed]",
      "text/html": [
       "\n",
       "        <iframe\n",
       "            width=\"400\"\n",
       "            height=\"300\"\n",
       "            src=\"https://www.youtube.com/embed/UlygQI2eSdg\"\n",
       "            frameborder=\"0\"\n",
       "            allowfullscreen\n",
       "        ></iframe>\n",
       "        "
      ],
      "text/plain": [
       "<IPython.lib.display.YouTubeVideo at 0x4470080>"
      ]
     },
     "execution_count": 2,
     "metadata": {},
     "output_type": "execute_result"
    }
   ],
   "source": [
    "YouTubeVideo('UlygQI2eSdg')"
   ]
  },
  {
   "cell_type": "markdown",
   "metadata": {},
   "source": [
    "summary from the vid\n",
    "1. multiple y axis \n",
    "2. how to have a subplot which has two types data on it and with different scales(they are not normalized)\n",
    "3. Example of this price and volume\n",
    "4. made another axis ax2v(ax2 volume)\n",
    "5. ax2v = ax2.twinx() (sharing same xaxis and separate y axis)\n",
    "6. chose 0 why on for the fill ---> thats the least amount of volume for a company\n",
    "7. There was y axis info that poped up on the right side (*info for the volume*)\n",
    "8. removed by being set to an empty list also no grid for the volume plot\n",
    "9. Double checked with GOOG, he didnt like it(ugly) \n",
    "10. GOOG took to much space dont want that\n",
    "11. solution to scale the y axis\n",
    "12. explained whats going on for the y scaling\n",
    "13. setting the limits of the y axis\n",
    "14. the high the multiple to volume the smaller the graph\n",
    "15. check video at 11.14 for clear explanation"
   ]
  },
  {
   "cell_type": "code",
   "execution_count": null,
   "metadata": {
    "collapsed": true
   },
   "outputs": [],
   "source": []
  }
 ],
 "metadata": {
  "kernelspec": {
   "display_name": "Python 2",
   "language": "python",
   "name": "python2"
  },
  "language_info": {
   "codemirror_mode": {
    "name": "ipython",
    "version": 2
   },
   "file_extension": ".py",
   "mimetype": "text/x-python",
   "name": "python",
   "nbconvert_exporter": "python",
   "pygments_lexer": "ipython2",
   "version": "2.7.13"
  }
 },
 "nbformat": 4,
 "nbformat_minor": 2
}
