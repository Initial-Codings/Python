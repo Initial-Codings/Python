{
 "cells": [
  {
   "cell_type": "markdown",
   "metadata": {},
   "source": [
    "#  Candelsticks OHLC Graph\n",
    "____"
   ]
  },
  {
   "cell_type": "code",
   "execution_count": 7,
   "metadata": {
    "collapsed": true
   },
   "outputs": [],
   "source": [
    "import matplotlib.pyplot as plt\n",
    "import matplotlib.dates as mdates\n",
    "import matplotlib.ticker as mticker\n",
    "from matplotlib.finance import candlestick_ohlc\n",
    "import numpy as np\n",
    "import urllib\n",
    "import datetime as dt"
   ]
  },
  {
   "cell_type": "code",
   "execution_count": 8,
   "metadata": {
    "collapsed": true
   },
   "outputs": [],
   "source": [
    "def bytespdate2num(fmt, encoding ='utf-8'):\n",
    "    strconverter = mdates.strpdate2num(fmt)\n",
    "    def bytesconverter(b):\n",
    "        s = b.decode(encoding)\n",
    "        return strconverter(s)\n",
    "    return bytesconverter"
   ]
  },
  {
   "cell_type": "code",
   "execution_count": 10,
   "metadata": {},
   "outputs": [
    {
     "ename": "SyntaxError",
     "evalue": "invalid syntax (<ipython-input-10-395c227f3848>, line 25)",
     "output_type": "error",
     "traceback": [
      "\u001b[1;36m  File \u001b[1;32m\"<ipython-input-10-395c227f3848>\"\u001b[1;36m, line \u001b[1;32m25\u001b[0m\n\u001b[1;33m    y = len(date)\u001b[0m\n\u001b[1;37m    ^\u001b[0m\n\u001b[1;31mSyntaxError\u001b[0m\u001b[1;31m:\u001b[0m invalid syntax\n"
     ]
    }
   ],
   "source": [
    "def graph_data(stock):\n",
    "    '''\n",
    "    Graph Stock prices using Yahoo API\n",
    "    INPUT:  Stock Trader\n",
    "    OUTPUT: Price vs Year Graph \n",
    "    '''\n",
    "    stock_price_url = 'http://chartapi.finance.yahoo.com/instrument/1.0/'+ stock +'/chartdata;type=quote;range=10y/csv'\n",
    "    source_code = urllib.request.urlopen(stock_price_url).read().decode()\n",
    "    stock_data = []\n",
    "    split_source = source_code.split('\\n')\n",
    "    \n",
    "    for line in split_source:\n",
    "        split_line = line.split(',')\n",
    "        if len(split_line) == 6:\n",
    "            if 'values' not in line and 'labels' not in line:\n",
    "                stock_data.append(line)\n",
    "              \n",
    "    date, closep, highp, lowp, openp, volume = np.loadtxt(stock_data,\n",
    "                                                          delimiter=',',\n",
    "                                                          unpack=True,\n",
    "    # data in required form \n",
    "    # create list\n",
    "    # counter\n",
    "    x = 0\n",
    "    y = len(date)\n",
    "    ohlc = []\n",
    "    while x < y:\n",
    "        ohlc.append(date[i], openp[i], highp[i], lowp[i], closep[i], volume[i])#(date,o,h,l,c,v)\n",
    "        x += 1\n",
    "        \n",
    "    # Candle stick graph\n",
    "    fig = plt.figure()\n",
    "    ax1 = plt.subplot2grid((1,1), (0,0))                                                      \n",
    "    candlestick_ohlc(ax1, ohlc, width = 0.4, colorup = '#77d879', colordown ='#db3f3f')\n",
    "    # modifications\n",
    "    for label in ax1.xaxis.get_ticklabels():\n",
    "        label.set_rotation(45)\n",
    "    # formats date\n",
    "    ax1.xaxis.set_major_formatter(mdates.DateFormatter('%Y-%m-%d'))\n",
    "    # specified 10 ticks (the dates when zoomin into the graph they are always 10)\n",
    "    ax1.xaxis.set_major_locator(mticker.MaxNLocator(10))\n",
    "    ax1.grid(True)                                                              \n",
    "    plt.xlabel('Date')\n",
    "    plt.ylabel('Price')\n",
    "    plt.title(stock)                                                 \n",
    "    plt.legend()\n",
    "    \n",
    "    plt.subplots_adjust(left = 0.09, bottom = 0.20, right = 0.94, top = 0.90, wspace = 0.2, hspace = 0)\n",
    "    plt.show()"
   ]
  },
  {
   "cell_type": "markdown",
   "metadata": {},
   "source": [
    "[On his website](https://pythonprogramming.net/colors-fills-matplotlib-tutorial/)"
   ]
  },
  {
   "cell_type": "markdown",
   "metadata": {},
   "source": [
    "points I wrote after reading the notes on the website\n",
    "1. Candlestic OHLC are used for time-series stock price information in a condensed form\n",
    "2. imported matplotlib.ticker and candlestick_ohlc\n",
    "3. ticker to modify to format\n",
    "4. candlestick_ohlc from matplotlib.finance\n",
    "5. built a list of the data that comprises the OHLC Graph\n",
    "6. Nice trick to fill to ohlc = []\n",
    "7. adjusted the colors of the graph\n",
    "\n",
    "summary from the vid\n",
    "1. Deleted alot\n",
    "2. in my opinion the list should be made like this\n",
    "> ohlc = []\n",
    "> for i in xrange(0, len(stock_data)):\n",
    ">     ohlc.append(date[i], openp[i], highp[i], lowp[i], closep[i], volume[i])\n",
    "3. There was to may data points had to zoom to see them\n",
    "4. So he changed the from 10y to 1m (1 month)\n",
    "5. There is was used space so he specified the number of markers needed\n",
    "7. noticed that ax1 is a graph object and xaxis is its attribute and set_... is method\n",
    "\n"
   ]
  },
  {
   "cell_type": "code",
   "execution_count": 1,
   "metadata": {},
   "outputs": [
    {
     "data": {
      "text/html": [
       "<iframe width=\"622\" height=\"350\" src=\"https://www.youtube.com/embed/S5Dn1HjBPA4\" frameborder=\"0\" allowfullscreen></iframe>"
      ],
      "text/plain": [
       "<IPython.core.display.HTML object>"
      ]
     },
     "metadata": {},
     "output_type": "display_data"
    }
   ],
   "source": [
    "%%HTML\n",
    "<iframe width=\"622\" height=\"350\" src=\"https://www.youtube.com/embed/S5Dn1HjBPA4\" frameborder=\"0\" allowfullscreen></iframe>"
   ]
  },
  {
   "cell_type": "code",
   "execution_count": null,
   "metadata": {
    "collapsed": true
   },
   "outputs": [],
   "source": [
    "graph_data('EBAY')"
   ]
  },
  {
   "cell_type": "code",
   "execution_count": null,
   "metadata": {
    "collapsed": true
   },
   "outputs": [],
   "source": []
  }
 ],
 "metadata": {
  "kernelspec": {
   "display_name": "Python 2",
   "language": "python",
   "name": "python2"
  },
  "language_info": {
   "codemirror_mode": {
    "name": "ipython",
    "version": 2
   },
   "file_extension": ".py",
   "mimetype": "text/x-python",
   "name": "python",
   "nbconvert_exporter": "python",
   "pygments_lexer": "ipython2",
   "version": "2.7.13"
  }
 },
 "nbformat": 4,
 "nbformat_minor": 2
}
