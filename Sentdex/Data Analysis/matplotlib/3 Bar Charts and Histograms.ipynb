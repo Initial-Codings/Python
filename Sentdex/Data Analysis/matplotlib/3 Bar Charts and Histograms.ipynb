{
 "cells": [
  {
   "cell_type": "markdown",
   "metadata": {},
   "source": [
    "# Bar Charts and Histograms\n",
    "___"
   ]
  },
  {
   "cell_type": "code",
   "execution_count": 3,
   "metadata": {
    "collapsed": true
   },
   "outputs": [],
   "source": [
    "import embedvideo as ev\n",
    "import matplotlib.pyplot as plt"
   ]
  },
  {
   "cell_type": "markdown",
   "metadata": {},
   "source": [
    "[Website](https://pythonprogramming.net/bar-chart-histogram-matplotlib-tutorial/)"
   ]
  },
  {
   "cell_type": "code",
   "execution_count": 4,
   "metadata": {},
   "outputs": [
    {
     "data": {
      "text/html": [
       "\n",
       "            <iframe\n",
       "                width=\"560\"\n",
       "                height=\"315\"\n",
       "                src=\"http://www.youtube.com/embed/ZyTO4SwhSeE?start=0\"\n",
       "                frameborder=\"0\"\n",
       "                allowfullscreen\n",
       "            ></iframe>\n",
       "        "
      ],
      "text/plain": [
       "<embedvideo.YouTubeVideo at 0x73d3710>"
      ]
     },
     "execution_count": 4,
     "metadata": {},
     "output_type": "execute_result"
    }
   ],
   "source": [
    "ev.YouTubeVideo('ZyTO4SwhSeE')"
   ]
  },
  {
   "cell_type": "markdown",
   "metadata": {},
   "source": [
    "# Bar Charts"
   ]
  },
  {
   "cell_type": "code",
   "execution_count": 14,
   "metadata": {
    "collapsed": true
   },
   "outputs": [],
   "source": [
    "%matplotlib inline"
   ]
  },
  {
   "cell_type": "code",
   "execution_count": 15,
   "metadata": {},
   "outputs": [
    {
     "data": {
      "image/png": "[encoded data removed]",
      "text/plain": [
       "<matplotlib.figure.Figure at 0x79c8588>"
      ]
     },
     "metadata": {},
     "output_type": "display_data"
    }
   ],
   "source": [
    "# Data\n",
    "x =  [2, 4, 6, 8, 10]\n",
    "y =  [6, 7, 8, 2, 4]\n",
    "x2 = [1, 3, 5, 7, 9]\n",
    "y2 = [7, 8, 2, 4, 2]\n",
    "\n",
    "# Bar chart\n",
    "plt.bar(x, y, label = '{}'.format('Bar Chart1'), color = 'r') # There is alot of options for colors\n",
    "plt.bar(x2, y2, label = '{}'.format('Bar Chart2'), color = 'c')\n",
    "\n",
    "# Label\n",
    "plt.xlabel('{}'.format('x axis'))\n",
    "plt.ylabel('{}'.format('y axis'))\n",
    "\n",
    "# Title\n",
    "plt.title('{}'.format('Title \\nSample Graph'))\n",
    "\n",
    "# Legend\n",
    "plt.legend()\n",
    "\n",
    "# Show\n",
    "plt.show()"
   ]
  },
  {
   "cell_type": "markdown",
   "metadata": {},
   "source": [
    "# Histogram"
   ]
  },
  {
   "cell_type": "code",
   "execution_count": 16,
   "metadata": {
    "collapsed": true
   },
   "outputs": [],
   "source": [
    "%matplotlib inline"
   ]
  },
  {
   "cell_type": "code",
   "execution_count": 35,
   "metadata": {},
   "outputs": [
    {
     "data": {
      "image/png": "[encoded data removed]",
      "text/plain": [
       "<matplotlib.figure.Figure at 0x883bd30>"
      ]
     },
     "metadata": {},
     "output_type": "display_data"
    }
   ],
   "source": [
    "population_ages = [22, 55, 62, 45, 21, 22, 34, 42, 42, 4, 99, 102, 110, 120, 121, \n",
    "                   122, 130, 111, 115, 112, 80, 75, 65, 54, 44, 43, 42, 48]\n",
    "\n",
    "ids  = [id for id in xrange(len(population_ages))]\n",
    "bins = [0, 10, 20, 30, 40, 50, 60, 70, 80, 90, 100, 110, 120, 130] \n",
    "\n",
    "# Bar distribution not shown only shows the oldest\n",
    "plt.bar(ids, population_ages, label = '{}'.format('Bar Chart'), color = 'k')\n",
    "\n",
    "# Histogram Better\n",
    "#plt.hist(population_ages, bins, histtype = 'bar', rwidth = 0.8)\n",
    "\n",
    "# Label\n",
    "plt.xlabel('{}'.format('x axis'))\n",
    "plt.ylabel('{}'.format('y axis'))\n",
    "\n",
    "# Title\n",
    "plt.title('{}'.format('Title \\nSample Graph'))\n",
    "\n",
    "# Legend\n",
    "plt.legend()\n",
    "\n",
    "# Show\n",
    "plt.show()"
   ]
  },
  {
   "cell_type": "code",
   "execution_count": 34,
   "metadata": {},
   "outputs": [
    {
     "data": {
      "image/png": "[encoded data removed]",
      "text/plain": [
       "<matplotlib.figure.Figure at 0x8190828>"
      ]
     },
     "metadata": {},
     "output_type": "display_data"
    }
   ],
   "source": [
    "population_ages = [22, 55, 62, 45, 21, 22, 34, 42, 42, 4, 99, 102, 110, 120, 121, \n",
    "                   122, 130, 111, 115, 112, 80, 75, 65, 54, 44, 43, 42, 48]\n",
    "\n",
    "ids  = [id for id in xrange(len(population_ages))]\n",
    "bins = [0, 10, 20, 30, 40, 50, 60, 70, 80, 90, 100, 110, 120, 130] \n",
    "\n",
    "# Bar distribution not shown only shows the oldest\n",
    "#plt.bar(ids, population_ages, label = '{}'.format('Bar Chart'), color = 'r')\n",
    "\n",
    "# Histogram Better shows the distribution\n",
    "plt.hist(population_ages, bins, histtype = 'bar', rwidth = 0.8, label = '{}'.format('Hist Chart'), color = 'b')\n",
    "\n",
    "# Label\n",
    "plt.xlabel('{}'.format('x axis'))\n",
    "plt.ylabel('{}'.format('y axis'))\n",
    "\n",
    "# Title\n",
    "plt.title('{}'.format('Title \\nSample Graph'))\n",
    "\n",
    "# Legend\n",
    "plt.legend()\n",
    "\n",
    "# Show\n",
    "plt.show()"
   ]
  },
  {
   "cell_type": "code",
   "execution_count": null,
   "metadata": {
    "collapsed": true
   },
   "outputs": [],
   "source": []
  }
 ],
 "metadata": {
  "kernelspec": {
   "display_name": "Python 2",
   "language": "python",
   "name": "python2"
  },
  "language_info": {
   "codemirror_mode": {
    "name": "ipython",
    "version": 2
   },
   "file_extension": ".py",
   "mimetype": "text/x-python",
   "name": "python",
   "nbconvert_exporter": "python",
   "pygments_lexer": "ipython2",
   "version": "2.7.13"
  }
 },
 "nbformat": 4,
 "nbformat_minor": 2
}
