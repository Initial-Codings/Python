{
 "cells": [
  {
   "cell_type": "markdown",
   "metadata": {},
   "source": [
    "# Data from the Internet\n",
    "____"
   ]
  },
  {
   "cell_type": "code",
   "execution_count": 15,
   "metadata": {
    "collapsed": true
   },
   "outputs": [],
   "source": [
    "import matplotlib.pyplot as plt\n",
    "import numpy as np\n",
    "import urllib\n",
    "import matplotlib.dates as mdates\n",
    "import embedvideo as ev"
   ]
  },
  {
   "cell_type": "code",
   "execution_count": 16,
   "metadata": {
    "collapsed": true
   },
   "outputs": [],
   "source": [
    "# decode workd in python 2 \n",
    "# but not in python 3 doesnt work\n",
    "# Thats y need function to decode\n",
    "def bytespdate2num(fmt, encoding ='utf-8'):\n",
    "    strconverter = mdates.strpdate2num(fmt)\n",
    "    def bytesconverter(b):\n",
    "        s = b.decode(encoding)\n",
    "        return strconverter(s)\n",
    "    return bytesconverter"
   ]
  },
  {
   "cell_type": "code",
   "execution_count": 17,
   "metadata": {
    "collapsed": true
   },
   "outputs": [],
   "source": [
    "def graph_data(stock):\n",
    "    '''\n",
    "    Graph Stock prices using Yahoo API\n",
    "    INPUT:  Stock Trader\n",
    "    OUTPUT: Price vs Year Graph \n",
    "    '''\n",
    "    # Yahoo API\n",
    "    stock_price_url = 'http://chartapi.finance.yahoo.com/instrument/1.0/'+ stock +'/chartdata;type=quote;range=10y/csv'\n",
    "    \n",
    "    # request, open, read and decode the API link\n",
    "    source_code = urllib.request.urlopen(stock_price_url).read().decode()\n",
    "    \n",
    "    # Computation to parse the data on the webpage\n",
    "    # List to hold required data\n",
    "    stock_data = []\n",
    "    \n",
    "    # List of all the lines on the webpage\n",
    "    split_source = source_code.split('\\n')\n",
    "    \n",
    "    # Only get the required data and ignore other contents\n",
    "    for line in split_source:\n",
    "        split_line = line.split(',')\n",
    "        if len(split_line) == 6:\n",
    "            if 'values' not in line and 'labels' not in line:\n",
    "                stock_data.append(line)\n",
    "    \n",
    "    # Unpack the data to this format using np.loadtxt            \n",
    "    date, closep, highp, lowp, openp, volume = np.loadtxt(stock_data,\n",
    "                                                          delimiter=',',\n",
    "                                                          unpack=True,\n",
    "                                                          # %Y = full year. 2015\n",
    "                                                          # %y = partial year 15\n",
    "                                                          # %m = number month\n",
    "                                                          # %d = number day\n",
    "                                                          # %H = hours\n",
    "                                                          # %M = minutes\n",
    "                                                          # %S = seconds\n",
    "                                                          # 12-06-2014\n",
    "                                                          # %m-%d-%Y\n",
    "                                                          converters={0: bytespdate2num('%Y%m%d')})\n",
    "    # Graph\n",
    "    # Label, Title, Legend and Display\n",
    "    plt.plot_date(date, closep,'-', label = 'Price') #(x, y, marker)\n",
    "    plt.xlabel('Date')\n",
    "    plt.ylabel('Price')\n",
    "    plt.title('Interesting Graph\\nCheck it out')                                                 \n",
    "    plt.legend()\n",
    "    plt.show()"
   ]
  },
  {
   "cell_type": "markdown",
   "metadata": {},
   "source": [
    "[Data from the Internet](https://pythonprogramming.net/internet-data-matplotlib-tutorial/?completed=/loading-file-data-matplotlib-tutorial/)"
   ]
  },
  {
   "cell_type": "code",
   "execution_count": 18,
   "metadata": {},
   "outputs": [
    {
     "data": {
      "text/html": [
       "\n",
       "            <iframe\n",
       "                width=\"560\"\n",
       "                height=\"315\"\n",
       "                src=\"http://www.youtube.com/embed/IbUa1tTT-7k?start=0\"\n",
       "                frameborder=\"0\"\n",
       "                allowfullscreen\n",
       "            ></iframe>\n",
       "        "
      ],
      "text/plain": [
       "<embedvideo.YouTubeVideo at 0x7676048>"
      ]
     },
     "execution_count": 18,
     "metadata": {},
     "output_type": "execute_result"
    }
   ],
   "source": [
    "ev.YouTubeVideo('IbUa1tTT-7k')"
   ]
  },
  {
   "cell_type": "markdown",
   "metadata": {},
   "source": [
    "# Converting Date Stamps\n",
    "____"
   ]
  },
  {
   "cell_type": "markdown",
   "metadata": {},
   "source": [
    "The date stamp being problematic solving the issue .decode() is note enough. And matplotlib doesnt use unix time\n",
    "1. Tutorial going to write the decoding function for the bytes string\n",
    "2. Pulling the data and graph the data"
   ]
  },
  {
   "cell_type": "code",
   "execution_count": 19,
   "metadata": {
    "scrolled": true
   },
   "outputs": [
    {
     "data": {
      "text/html": [
       "\n",
       "            <iframe\n",
       "                width=\"560\"\n",
       "                height=\"315\"\n",
       "                src=\"http://www.youtube.com/embed/83-_3x2AjXI?start=0\"\n",
       "                frameborder=\"0\"\n",
       "                allowfullscreen\n",
       "            ></iframe>\n",
       "        "
      ],
      "text/plain": [
       "<embedvideo.YouTubeVideo at 0x76767b8>"
      ]
     },
     "execution_count": 19,
     "metadata": {},
     "output_type": "execute_result"
    }
   ],
   "source": [
    "ev.YouTubeVideo('83-_3x2AjXI')"
   ]
  },
  {
   "cell_type": "code",
   "execution_count": 13,
   "metadata": {
    "collapsed": true
   },
   "outputs": [],
   "source": [
    "%matplotlib inline"
   ]
  },
  {
   "cell_type": "code",
   "execution_count": 20,
   "metadata": {},
   "outputs": [
    {
     "ename": "AttributeError",
     "evalue": "'module' object has no attribute 'request'",
     "output_type": "error",
     "traceback": [
      "\u001b[1;31m---------------------------------------------------------------------------\u001b[0m",
      "\u001b[1;31mAttributeError\u001b[0m                            Traceback (most recent call last)",
      "\u001b[1;32m<ipython-input-20-d43a2b7eaa98>\u001b[0m in \u001b[0;36m<module>\u001b[1;34m()\u001b[0m\n\u001b[0;32m      1\u001b[0m \u001b[1;31m# Doesnt work on May/24/2017 because webpage is down(maintenance)\u001b[0m\u001b[1;33m\u001b[0m\u001b[1;33m\u001b[0m\u001b[0m\n\u001b[1;32m----> 2\u001b[1;33m \u001b[0mgraph_data\u001b[0m\u001b[1;33m(\u001b[0m\u001b[1;34m'TSLA'\u001b[0m\u001b[1;33m)\u001b[0m\u001b[1;33m\u001b[0m\u001b[0m\n\u001b[0m",
      "\u001b[1;32m<ipython-input-17-77079c5e9246>\u001b[0m in \u001b[0;36mgraph_data\u001b[1;34m(stock)\u001b[0m\n\u001b[0;32m      9\u001b[0m \u001b[1;33m\u001b[0m\u001b[0m\n\u001b[0;32m     10\u001b[0m     \u001b[1;31m# request, open, read and decode the API link\u001b[0m\u001b[1;33m\u001b[0m\u001b[1;33m\u001b[0m\u001b[0m\n\u001b[1;32m---> 11\u001b[1;33m     \u001b[0msource_code\u001b[0m \u001b[1;33m=\u001b[0m \u001b[0murllib\u001b[0m\u001b[1;33m.\u001b[0m\u001b[0mrequest\u001b[0m\u001b[1;33m.\u001b[0m\u001b[0murlopen\u001b[0m\u001b[1;33m(\u001b[0m\u001b[0mstock_price_url\u001b[0m\u001b[1;33m)\u001b[0m\u001b[1;33m.\u001b[0m\u001b[0mread\u001b[0m\u001b[1;33m(\u001b[0m\u001b[1;33m)\u001b[0m\u001b[1;33m.\u001b[0m\u001b[0mdecode\u001b[0m\u001b[1;33m(\u001b[0m\u001b[1;33m)\u001b[0m\u001b[1;33m\u001b[0m\u001b[0m\n\u001b[0m\u001b[0;32m     12\u001b[0m \u001b[1;33m\u001b[0m\u001b[0m\n\u001b[0;32m     13\u001b[0m     \u001b[1;31m# Computation to parse the data on the webpage\u001b[0m\u001b[1;33m\u001b[0m\u001b[1;33m\u001b[0m\u001b[0m\n",
      "\u001b[1;31mAttributeError\u001b[0m: 'module' object has no attribute 'request'"
     ]
    }
   ],
   "source": [
    "# Doesnt work on May/24/2017 because webpage is down(maintenance)\n",
    "graph_data('TSLA')"
   ]
  },
  {
   "cell_type": "markdown",
   "metadata": {},
   "source": [
    "# Infor for plot_date(...)\n",
    "____\n",
    "Signature: plt.plot_date(x, y, fmt=u'o', tz=None, xdate=True, ydate=False, hold=None, data=None, **kwargs)\n",
    "Docstring:\n",
    "A plot with data that contains dates.\n",
    "\n",
    "Similar to the :func:`~matplotlib.pyplot.plot` command, except\n",
    "the *x* or *y* (or both) data is considered to be dates, and the\n",
    "axis is labeled accordingly.\n",
    "\n",
    "*x* and/or *y* can be a sequence of dates represented as float\n",
    "days since 0001-01-01 UTC.\n",
    "\n",
    "Note if you are using custom date tickers and formatters, it\n",
    "may be necessary to set the formatters/locators after the call\n",
    "to meth:`plot_date` since meth:`plot_date` will set the\n",
    "default tick locator to\n",
    "class:`matplotlib.dates.AutoDateLocator` (if the tick\n",
    "locator is not already set to a\n",
    "class:`matplotlib.dates.DateLocator` instance) and the\n",
    "default tick formatter to\n",
    "class:`matplotlib.dates.AutoDateFormatter` (if the tick\n",
    "formatter is not already set to a\n",
    "class:`matplotlib.dates.DateFormatter` instance).\n",
    "\n",
    "\n",
    "Parameters\n",
    "----------\n",
    "fmt : string\n",
    "    The plot format string.\n",
    "\n",
    "tz : [ *None* | timezone string | :class:`tzinfo` instance]\n",
    "    The time zone to use in labeling dates. If *None*, defaults to rc\n",
    "    value.\n",
    "\n",
    "xdate : boolean\n",
    "    If *True*, the *x*-axis will be labeled with dates.\n",
    "\n",
    "ydate : boolean\n",
    "    If *True*, the *y*-axis will be labeled with dates.\n",
    "\n",
    "\n",
    "Returns\n",
    "-------\n",
    "lines\n",
    "\n",
    "\n",
    "See Also\n",
    "--------\n",
    "matplotlib.dates : helper functions on dates\n",
    "matplotlib.dates.date2num : how to convert dates to num\n",
    "matplotlib.dates.num2date : how to convert num to dates\n",
    "matplotlib.dates.drange : how floating point dates\n",
    "\n",
    "\n",
    "Other Parameters\n",
    "----------------\n",
    "kwargs : :class:`matplotlib.lines.Line2D`\n",
    "properties :   agg_filter: unknown\n",
    "  alpha: float (0.0 transparent through 1.0 opaque) \n",
    "  animated: [True | False] \n",
    "  antialiased or aa: [True | False] \n",
    "  axes: an :class:`~matplotlib.axes.Axes` instance \n",
    "  clip_box: a :class:`matplotlib.transforms.Bbox` instance \n",
    "  clip_on: [True | False] \n",
    "  clip_path: [ (:class:`~matplotlib.path.Path`, :class:`~matplotlib.transforms.Transform`) | :class:`~matplotlib.patches.Patch` | None ] \n",
    "  color or c: any matplotlib color \n",
    "  contains: a callable function \n",
    "  dash_capstyle: ['butt' | 'round' | 'projecting'] \n",
    "  dash_joinstyle: ['miter' | 'round' | 'bevel'] \n",
    "  dashes: sequence of on/off ink in points \n",
    "  drawstyle: ['default' | 'steps' | 'steps-pre' | 'steps-mid' | 'steps-post'] \n",
    "  figure: a :class:`matplotlib.figure.Figure` instance \n",
    "  fillstyle: ['full' | 'left' | 'right' | 'bottom' | 'top' | 'none'] \n",
    "  gid: an id string \n",
    "  label: string or anything printable with '%s' conversion. \n",
    "  linestyle or ls: ['solid' | 'dashed', 'dashdot', 'dotted' | (offset, on-off-dash-seq) | ``'-'`` | ``'--'`` | ``'-.'`` | ``':'`` | ``'None'`` | ``' '`` | ``''``]\n",
    "  linewidth or lw: float value in points \n",
    "  marker: :mod:`A valid marker style <matplotlib.markers>`\n",
    "  markeredgecolor or mec: any matplotlib color \n",
    "  markeredgewidth or mew: float value in points \n",
    "  markerfacecolor or mfc: any matplotlib color \n",
    "  markerfacecoloralt or mfcalt: any matplotlib color \n",
    "  markersize or ms: float \n",
    "  markevery: [None | int | length-2 tuple of int | slice | list/array of int | float | length-2 tuple of float]\n",
    "  path_effects: unknown\n",
    "  picker: float distance in points or callable pick function ``fn(artist, event)`` \n",
    "  pickradius: float distance in points \n",
    "  rasterized: [True | False | None] \n",
    "  sketch_params: unknown\n",
    "  snap: unknown\n",
    "  solid_capstyle: ['butt' | 'round' |  'projecting'] \n",
    "  solid_joinstyle: ['miter' | 'round' | 'bevel'] \n",
    "  transform: a :class:`matplotlib.transforms.Transform` instance \n",
    "  url: a url string \n",
    "  visible: [True | False] \n",
    "  xdata: 1D array \n",
    "  ydata: 1D array \n",
    "  zorder: any number \n",
    "\n",
    ".. note::\n",
    "    In addition to the above described arguments, this function can take a\n",
    "    **data** keyword argument. If such a **data** argument is given, the\n",
    "    following arguments are replaced by **data[<arg>]**:\n",
    "\n",
    "    * All arguments with the following names: 'x', 'y'.\n",
    "File:      c:\\users\\pc\\miniconda2\\lib\\site-packages\\matplotlib\\pyplot.py\n",
    "Type:      function"
   ]
  },
  {
   "cell_type": "code",
   "execution_count": null,
   "metadata": {
    "collapsed": true
   },
   "outputs": [],
   "source": []
  }
 ],
 "metadata": {
  "kernelspec": {
   "display_name": "Python 2",
   "language": "python",
   "name": "python2"
  },
  "language_info": {
   "codemirror_mode": {
    "name": "ipython",
    "version": 2
   },
   "file_extension": ".py",
   "mimetype": "text/x-python",
   "name": "python",
   "nbconvert_exporter": "python",
   "pygments_lexer": "ipython2",
   "version": "2.7.13"
  }
 },
 "nbformat": 4,
 "nbformat_minor": 2
}
