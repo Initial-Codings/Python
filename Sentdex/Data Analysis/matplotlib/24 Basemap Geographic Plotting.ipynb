{
 "cells": [
  {
   "cell_type": "markdown",
   "metadata": {},
   "source": [
    "# Basemap\n",
    "______"
   ]
  },
  {
   "cell_type": "code",
   "execution_count": 1,
   "metadata": {},
   "outputs": [],
   "source": [
    "from mpl_toolkits.basemap import Basemap\n",
    "import matplotlib.pyplot as plt\n",
    "import webbrowser\n",
    "from IPython.display import YouTubeVideo"
   ]
  },
  {
   "cell_type": "code",
   "execution_count": 35,
   "metadata": {},
   "outputs": [
    {
     "data": {
      "text/plain": [
       "True"
      ]
     },
     "execution_count": 35,
     "metadata": {},
     "output_type": "execute_result"
    }
   ],
   "source": [
    "webbrowser.open('https://pythonprogramming.net/geographic-basemap-plotting-matplotlib-tutorial/')"
   ]
  },
  {
   "cell_type": "code",
   "execution_count": 2,
   "metadata": {},
   "outputs": [
    {
     "data": {
      "image/jpeg": "[encoded data removed]",
      "text/html": [
       "\n",
       "        <iframe\n",
       "            width=\"400\"\n",
       "            height=\"300\"\n",
       "            src=\"https://www.youtube.com/embed/mXR47qiTdWQ\"\n",
       "            frameborder=\"0\"\n",
       "            allowfullscreen\n",
       "        ></iframe>\n",
       "        "
      ],
      "text/plain": [
       "<IPython.lib.display.YouTubeVideo at 0x7817128>"
      ]
     },
     "execution_count": 2,
     "metadata": {},
     "output_type": "execute_result"
    }
   ],
   "source": [
    "YouTubeVideo('mXR47qiTdWQ')"
   ]
  },
  {
   "cell_type": "code",
   "execution_count": 4,
   "metadata": {
    "scrolled": false
   },
   "outputs": [
    {
     "name": "stdout",
     "output_type": "stream",
     "text": [
      "Using matplotlib backend: Qt5Agg\n"
     ]
    },
    {
     "name": "stderr",
     "output_type": "stream",
     "text": [
      "C:\\Users\\PC\\Miniconda2\\lib\\site-packages\\mpl_toolkits\\basemap\\__init__.py:1767: MatplotlibDeprecationWarning: The get_axis_bgcolor function was deprecated in version 2.0. Use get_facecolor instead.\n",
      "  axisbgc = ax.get_axis_bgcolor()\n"
     ]
    }
   ],
   "source": [
    "%matplotlib\n",
    "m = Basemap(projection='mill') # backend\n",
    "m.drawcoastlines() # have to draw to see a pop up\n",
    "m.fillcontinents()\n",
    "plt.show()"
   ]
  },
  {
   "cell_type": "markdown",
   "metadata": {},
   "source": [
    "a. my website summary\n",
    "1. Downloaded the basemap\n",
    "2. project a simple\n",
    "3. To do this import Basemap, pyplot, draw some sort of outline or data, then can show the graph\n",
    "4. got the mpl_toolkits from (A)\n",
    ">sources for getting the module\n",
    ">1. [matplotlib link](http://matplotlib.org/basemap/users/download.html)\n",
    ">2. [windows binaries](http://www.lfd.uci.edu/~gohlke/pythonlibs/)\n",
    "5. other projection example here:\n",
    "   [Basemap Projection Options](http://matplotlib.org/basemap/users/mapsetup.html)\n",
    "\n",
    "b. my video summary\n",
    "1. Basemap not there by default therefore have to download it\n",
    "2. make sure the version of download mathces with the python version you want to use the module amd64 python 2.7.13\n",
    "3. miller projection \n",
    "4. fill the any color as needed\n",
    "5. The 2d representation of the world will always have a distortion, because the world is actually a sphere"
   ]
  }
 ],
 "metadata": {
  "kernelspec": {
   "display_name": "Python 2",
   "language": "python",
   "name": "python2"
  },
  "language_info": {
   "codemirror_mode": {
    "name": "ipython",
    "version": 2
   },
   "file_extension": ".py",
   "mimetype": "text/x-python",
   "name": "python",
   "nbconvert_exporter": "python",
   "pygments_lexer": "ipython2",
   "version": "2.7.13"
  }
 },
 "nbformat": 4,
 "nbformat_minor": 2
}
