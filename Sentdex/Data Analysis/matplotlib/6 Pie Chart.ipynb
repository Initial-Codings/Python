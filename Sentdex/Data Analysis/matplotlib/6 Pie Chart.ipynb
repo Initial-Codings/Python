{
 "cells": [
  {
   "cell_type": "markdown",
   "metadata": {},
   "source": [
    "# Pie Charts\n",
    "____"
   ]
  },
  {
   "cell_type": "code",
   "execution_count": 19,
   "metadata": {
    "collapsed": true
   },
   "outputs": [],
   "source": [
    "import embedvideo as ev\n",
    "import matplotlib.pyplot as plt"
   ]
  },
  {
   "cell_type": "markdown",
   "metadata": {},
   "source": [
    "[Pie Chart](https://pythonprogramming.net/pie-chart-matplotlib-tutorial/)"
   ]
  },
  {
   "cell_type": "code",
   "execution_count": 3,
   "metadata": {},
   "outputs": [
    {
     "data": {
      "text/html": [
       "\n",
       "            <iframe\n",
       "                width=\"560\"\n",
       "                height=\"315\"\n",
       "                src=\"http://www.youtube.com/embed/Oh2Dkkswy30?start=0\"\n",
       "                frameborder=\"0\"\n",
       "                allowfullscreen\n",
       "            ></iframe>\n",
       "        "
      ],
      "text/plain": [
       "<embedvideo.YouTubeVideo at 0x73bb748>"
      ]
     },
     "execution_count": 3,
     "metadata": {},
     "output_type": "execute_result"
    }
   ],
   "source": [
    "ev.YouTubeVideo('Oh2Dkkswy30')"
   ]
  },
  {
   "cell_type": "code",
   "execution_count": 10,
   "metadata": {
    "collapsed": true
   },
   "outputs": [],
   "source": [
    "%matplotlib inline"
   ]
  },
  {
   "cell_type": "code",
   "execution_count": 18,
   "metadata": {
    "scrolled": true
   },
   "outputs": [
    {
     "data": {
      "image/png": "[encoded data removed]",
      "text/plain": [
       "<matplotlib.figure.Figure at 0x85c1390>"
      ]
     },
     "metadata": {},
     "output_type": "display_data"
    }
   ],
   "source": [
    "# Variables\n",
    "slices     = [7, 2, 2, 13]\n",
    "activities = ['sleeping', 'eating', 'working', 'playing']\n",
    "cols       = ['c', 'm', 'r', 'b']\n",
    "\n",
    "# Pie Chart\n",
    "# plt.pie(x, explode=None, labels=None, colors=None, autopct=None, pctdistance=0.6, shadow=False, \n",
    "# labeldistance=1.1, startangle=None, radius=None, counterclock=True, wedgeprops=None, textprops=None, \n",
    "# center=(0, 0), frame=False, hold=None, data=None)\n",
    "plt.pie(slices,\n",
    "        labels     = activities,\n",
    "        colors     = cols,\n",
    "        startangle = 90,\n",
    "        shadow     = True,\n",
    "        explode    = (0, 0.1, 0, 0),#('sleeping', 'eating', 'working', 'playing') moved eating 1st index \n",
    "        autopct    = '%1.1f%%')     \n",
    "\n",
    "# Title and Display\n",
    "plt.title('Interesting Graph\\nCheck it out')\n",
    "plt.show()"
   ]
  },
  {
   "cell_type": "code",
   "execution_count": null,
   "metadata": {
    "collapsed": true
   },
   "outputs": [],
   "source": []
  }
 ],
 "metadata": {
  "kernelspec": {
   "display_name": "Python 2",
   "language": "python",
   "name": "python2"
  },
  "language_info": {
   "codemirror_mode": {
    "name": "ipython",
    "version": 2
   },
   "file_extension": ".py",
   "mimetype": "text/x-python",
   "name": "python",
   "nbconvert_exporter": "python",
   "pygments_lexer": "ipython2",
   "version": "2.7.13"
  }
 },
 "nbformat": 4,
 "nbformat_minor": 2
}
